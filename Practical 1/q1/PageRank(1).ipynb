{
  "cells": [
    {
      "cell_type": "markdown",
      "metadata": {
        "id": "rNsd5NPwrV3r"
      },
      "source": [
        "In this section, we will implement the Google PageRank algorithm using two different approaches. First, we will view it as a Markov process, simulating the random walk behavior of a user moving between webpages. Then, we will take a more deterministic approach by solving the problem using matrix factorization, which involves setting up and solving a system of linear equations.\n",
        "\n",
        "We will also explain why both methods ultimately produce the same ranking after convergence.\n",
        "\n",
        "Before diving into the PageRank computation, we will generate a graph represented by an adjacency matrix for a directed graph. In this graph, each outgoing link from a node represents a hyperlink from the current webpage to another webpage, and each incoming edge to a node represents a hyperlink from another webpage to the current one."
      ]
    },
    {
      "cell_type": "code",
      "execution_count": null,
      "metadata": {
        "id": "Uuq-8mRXrV3t"
      },
      "outputs": [],
      "source": [
        "''' import libraries '''\n",
        "\n",
        "import networkx as nx\n",
        "import numpy as np\n",
        "import plotly.graph_objects as go"
      ]
    },
    {
      "cell_type": "code",
      "execution_count": null,
      "metadata": {
        "colab": {
          "base_uri": "https://localhost:8080/"
        },
        "id": "ZTgiCHdtrV3u",
        "outputId": "71dcf38e-4c0a-4c77-e5a3-0b246d27a0a7"
      },
      "outputs": [
        {
          "output_type": "execute_result",
          "data": {
            "text/plain": [
              "array([[0., 1., 1., 0., 1., 0., 0., 0., 0., 1.],\n",
              "       [0., 0., 1., 0., 1., 0., 1., 1., 0., 0.],\n",
              "       [0., 0., 0., 1., 0., 0., 1., 1., 0., 0.],\n",
              "       [0., 1., 1., 1., 0., 0., 1., 1., 0., 0.],\n",
              "       [0., 0., 0., 0., 0., 0., 0., 1., 0., 0.],\n",
              "       [1., 1., 0., 0., 0., 1., 0., 0., 0., 1.],\n",
              "       [0., 1., 0., 0., 0., 0., 0., 0., 0., 0.],\n",
              "       [0., 0., 0., 0., 0., 1., 0., 0., 0., 0.],\n",
              "       [1., 1., 0., 1., 0., 0., 0., 1., 0., 1.],\n",
              "       [0., 1., 1., 0., 0., 0., 0., 0., 0., 0.]])"
            ]
          },
          "metadata": {},
          "execution_count": 32
        }
      ],
      "source": [
        "''' generate adjacency matrix '''\n",
        "\n",
        "def generateADJ(n = 10, density = 0.3):\n",
        "    \"\"\"\n",
        "    Generate an n×n adjacency matrix where the\n",
        "    ratio of ones to n^2 is approximately equal\n",
        "    to the specified density parameter.\n",
        "    \"\"\"\n",
        "    adj = np.zeros((n, n))\n",
        "\n",
        "    target_edges = int(density * n * n)\n",
        "\n",
        "    edges_placed = 0\n",
        "    while edges_placed < target_edges:\n",
        "        i = np.random.randint(0, n)\n",
        "        j = np.random.randint(0, n)\n",
        "\n",
        "        if adj[i,j] == 0:\n",
        "            adj[i,j] = 1\n",
        "            edges_placed += 1\n",
        "\n",
        "    return adj\n",
        "\n",
        "adj = generateADJ()\n",
        "adj"
      ]
    },
    {
      "cell_type": "code",
      "execution_count": null,
      "metadata": {
        "colab": {
          "base_uri": "https://localhost:8080/"
        },
        "id": "Y1SXTp9xrV3v",
        "outputId": "1c0351a4-7d25-4f65-e557-0f80a4f74900"
      },
      "outputs": [
        {
          "output_type": "execute_result",
          "data": {
            "text/plain": [
              "<networkx.classes.digraph.DiGraph at 0x7f28f15a28c0>"
            ]
          },
          "metadata": {},
          "execution_count": 33
        }
      ],
      "source": [
        "''' construct the graph using nx '''\n",
        "def create_graph(adj):\n",
        "   \"\"\"\n",
        "   Constructs a directed graph from the given adjacency matrix.\n",
        "   \"\"\"\n",
        "   G = nx.DiGraph()\n",
        "   n = adj.shape[0]\n",
        "\n",
        "   # Add nodes\n",
        "   G.add_nodes_from(range(n))\n",
        "\n",
        "   # Add edges where adjacency matrix has 1s\n",
        "   for i in range(n):\n",
        "       for j in range(n):\n",
        "           if adj[i,j] == 1:\n",
        "               G.add_edge(i, j)\n",
        "\n",
        "   return G\n",
        "\n",
        "graph = create_graph(adj)\n",
        "graph"
      ]
    },
    {
      "cell_type": "code",
      "execution_count": null,
      "metadata": {
        "colab": {
          "base_uri": "https://localhost:8080/",
          "height": 1000
        },
        "id": "UOX5B-TNrV3w",
        "outputId": "79df9eba-7afc-4636-df71-cc0687c12ac2"
      },
      "outputs": [
        {
          "output_type": "display_data",
          "data": {
            "text/html": [
              "<html>\n",
              "<head><meta charset=\"utf-8\" /></head>\n",
              "<body>\n",
              "    <div>            <script src=\"https://cdnjs.cloudflare.com/ajax/libs/mathjax/2.7.5/MathJax.js?config=TeX-AMS-MML_SVG\"></script><script type=\"text/javascript\">if (window.MathJax && window.MathJax.Hub && window.MathJax.Hub.Config) {window.MathJax.Hub.Config({SVG: {font: \"STIX-Web\"}});}</script>                <script type=\"text/javascript\">window.PlotlyConfig = {MathJaxConfig: 'local'};</script>\n",
              "        <script charset=\"utf-8\" src=\"https://cdn.plot.ly/plotly-2.35.2.min.js\"></script>                <div id=\"323f0f03-af4b-4a87-b05f-37efd99f1323\" class=\"plotly-graph-div\" style=\"height:525px; width:100%;\"></div>            <script type=\"text/javascript\">                                    window.PLOTLYENV=window.PLOTLYENV || {};                                    if (document.getElementById(\"323f0f03-af4b-4a87-b05f-37efd99f1323\")) {                    Plotly.newPlot(                        \"323f0f03-af4b-4a87-b05f-37efd99f1323\",                        [{\"hoverinfo\":\"none\",\"line\":{\"color\":\"black\",\"width\":1},\"mode\":\"lines\",\"x\":[-0.17563383084757747,-0.2968289517451485,null,-0.17563383084757747,0.2811378336180952,null,-0.17563383084757747,-0.7745051360294132,null,-0.17563383084757747,0.5727065098461936,null,-0.2968289517451485,0.2811378336180952,null,-0.2968289517451485,-0.7745051360294132,null,-0.2968289517451485,-0.1504729675087979,null,-0.2968289517451485,0.19724997736079014,null,0.2811378336180952,0.00007593996806242046,null,0.2811378336180952,-0.1504729675087979,null,0.2811378336180952,0.19724997736079014,null,0.00007593996806242046,-0.2968289517451485,null,0.00007593996806242046,0.2811378336180952,null,0.00007593996806242046,0.00007593996806242046,null,0.00007593996806242046,-0.1504729675087979,null,0.00007593996806242046,0.19724997736079014,null,-0.7745051360294132,0.19724997736079014,null,0.2541350554476249,-0.17563383084757747,null,0.2541350554476249,-0.2968289517451485,null,0.2541350554476249,0.2541350554476249,null,0.2541350554476249,0.5727065098461936,null,-0.1504729675087979,-0.2968289517451485,null,0.19724997736079014,0.2541350554476249,null,0.09213556989017185,-0.17563383084757747,null,0.09213556989017185,-0.2968289517451485,null,0.09213556989017185,0.00007593996806242046,null,0.09213556989017185,0.19724997736079014,null,0.09213556989017185,0.5727065098461936,null,0.5727065098461936,-0.2968289517451485,null,0.5727065098461936,0.2811378336180952,null],\"y\":[-0.13060949577306571,0.12280158965340818,null,-0.13060949577306571,0.28045745850230036,null,-0.13060949577306571,-0.2778166717456164,null,-0.13060949577306571,0.016308704301580716,null,0.12280158965340818,0.28045745850230036,null,0.12280158965340818,-0.2778166717456164,null,0.12280158965340818,1.0,null,0.12280158965340818,-0.8284118533306617,null,0.28045745850230036,0.2588487021249703,null,0.28045745850230036,1.0,null,0.28045745850230036,-0.8284118533306617,null,0.2588487021249703,0.12280158965340818,null,0.2588487021249703,0.28045745850230036,null,0.2588487021249703,0.2588487021249703,null,0.2588487021249703,1.0,null,0.2588487021249703,-0.8284118533306617,null,-0.2778166717456164,-0.8284118533306617,null,-0.09946038178860957,-0.13060949577306571,null,-0.09946038178860957,0.12280158965340818,null,-0.09946038178860957,-0.09946038178860957,null,-0.09946038178860957,0.016308704301580716,null,1.0,0.12280158965340818,null,-0.8284118533306617,-0.09946038178860957,null,-0.3421180519443068,-0.13060949577306571,null,-0.3421180519443068,0.12280158965340818,null,-0.3421180519443068,0.2588487021249703,null,-0.3421180519443068,-0.8284118533306617,null,-0.3421180519443068,0.016308704301580716,null,0.016308704301580716,0.12280158965340818,null,0.016308704301580716,0.28045745850230036,null],\"type\":\"scatter\"},{\"hoverinfo\":\"none\",\"marker\":{\"angle\":-90,\"color\":\"black\",\"size\":8,\"symbol\":\"triangle-up\"},\"mode\":\"markers\",\"x\":[-0.236231391296363,0.05275200138525886,-0.4750694834384953,0.1985363394993081,-0.007845559063526658,-0.5356670438872808,-0.2236509596269732,-0.04978948719217918,0.1406068867930788,0.06533243305464864,0.23919390548944267,-0.14837650588854304,0.1406068867930788,0.00007593996806242046,-0.07519851377036774,0.09866295866442629,-0.2886275793343115,0.039250612300023704,-0.021346948148761813,0.2541350554476249,0.4134207826469093,-0.2236509596269732,0.2256925164042075,-0.04174913047870281,-0.10234669092748833,0.046105754929117136,0.144692773625481,0.3324210398681827,0.13793877905052257,0.4269221717321444],\"y\":[-0.0039039530598287686,0.07492398136461732,-0.20421308375934105,-0.0571503957357425,0.20162952407785428,-0.07750754104610412,0.5614007948267041,-0.3528051318386268,0.26965308031363533,0.6402287292511502,-0.2739771974141807,0.19082514588918925,0.26965308031363533,0.2588487021249703,0.6294243510624852,-0.28478157560284567,-0.5531142625381391,-0.11503493878083765,0.011670603932399305,-0.09946038178860957,-0.04157583874351443,0.5614007948267041,-0.46393611755963565,-0.23636377385868623,-0.1096582311454493,-0.04163467490966824,-0.5852649526374842,-0.16290467382136303,0.06955514697749444,0.14838308140194054],\"type\":\"scatter\"},{\"hoverinfo\":\"text\",\"marker\":{\"color\":[0.05719562172254118,0.189631624248947,0.10671231470002875,0.05757214484105508,0.06745112549139684,0.18656600454006025,0.09531901822425903,0.15520227240097803,0.015000000000000003,0.06934987383073407],\"colorbar\":{\"thickness\":15,\"title\":{\"side\":\"right\",\"text\":\"PageRank Value\"},\"xanchor\":\"left\"},\"colorscale\":[[0.0,\"rgb(255,255,217)\"],[0.125,\"rgb(237,248,177)\"],[0.25,\"rgb(199,233,180)\"],[0.375,\"rgb(127,205,187)\"],[0.5,\"rgb(65,182,196)\"],[0.625,\"rgb(29,145,192)\"],[0.75,\"rgb(34,94,168)\"],[0.875,\"rgb(37,52,148)\"],[1.0,\"rgb(8,29,88)\"]],\"line\":{\"width\":2},\"showscale\":true,\"size\":20},\"mode\":\"markers\",\"text\":[\"Page 0 - PageRank: 0.057\",\"Page 1 - PageRank: 0.190\",\"Page 2 - PageRank: 0.107\",\"Page 3 - PageRank: 0.058\",\"Page 4 - PageRank: 0.067\",\"Page 5 - PageRank: 0.187\",\"Page 6 - PageRank: 0.095\",\"Page 7 - PageRank: 0.155\",\"Page 8 - PageRank: 0.015\",\"Page 9 - PageRank: 0.069\"],\"x\":[-0.17563383084757747,-0.2968289517451485,0.2811378336180952,0.00007593996806242046,-0.7745051360294132,0.2541350554476249,-0.1504729675087979,0.19724997736079014,0.09213556989017185,0.5727065098461936],\"y\":[-0.13060949577306571,0.12280158965340818,0.28045745850230036,0.2588487021249703,-0.2778166717456164,-0.09946038178860957,1.0,-0.8284118533306617,-0.3421180519443068,0.016308704301580716],\"type\":\"scatter\"}],                        {\"annotations\":[{\"showarrow\":false,\"text\":\"Directed graph representing webpage linkages\",\"x\":0.005,\"xref\":\"paper\",\"y\":-0.002,\"yref\":\"paper\"}],\"hovermode\":\"closest\",\"margin\":{\"b\":0,\"l\":0,\"r\":0,\"t\":40},\"showlegend\":false,\"title\":{\"font\":{\"size\":16},\"text\":\"Webpage Linkage Graph (PageRank Visualization)\"},\"xaxis\":{\"showgrid\":false,\"zeroline\":false},\"yaxis\":{\"showgrid\":false,\"zeroline\":false},\"template\":{\"data\":{\"histogram2dcontour\":[{\"type\":\"histogram2dcontour\",\"colorbar\":{\"outlinewidth\":0,\"ticks\":\"\"},\"colorscale\":[[0.0,\"#0d0887\"],[0.1111111111111111,\"#46039f\"],[0.2222222222222222,\"#7201a8\"],[0.3333333333333333,\"#9c179e\"],[0.4444444444444444,\"#bd3786\"],[0.5555555555555556,\"#d8576b\"],[0.6666666666666666,\"#ed7953\"],[0.7777777777777778,\"#fb9f3a\"],[0.8888888888888888,\"#fdca26\"],[1.0,\"#f0f921\"]]}],\"choropleth\":[{\"type\":\"choropleth\",\"colorbar\":{\"outlinewidth\":0,\"ticks\":\"\"}}],\"histogram2d\":[{\"type\":\"histogram2d\",\"colorbar\":{\"outlinewidth\":0,\"ticks\":\"\"},\"colorscale\":[[0.0,\"#0d0887\"],[0.1111111111111111,\"#46039f\"],[0.2222222222222222,\"#7201a8\"],[0.3333333333333333,\"#9c179e\"],[0.4444444444444444,\"#bd3786\"],[0.5555555555555556,\"#d8576b\"],[0.6666666666666666,\"#ed7953\"],[0.7777777777777778,\"#fb9f3a\"],[0.8888888888888888,\"#fdca26\"],[1.0,\"#f0f921\"]]}],\"heatmap\":[{\"type\":\"heatmap\",\"colorbar\":{\"outlinewidth\":0,\"ticks\":\"\"},\"colorscale\":[[0.0,\"#0d0887\"],[0.1111111111111111,\"#46039f\"],[0.2222222222222222,\"#7201a8\"],[0.3333333333333333,\"#9c179e\"],[0.4444444444444444,\"#bd3786\"],[0.5555555555555556,\"#d8576b\"],[0.6666666666666666,\"#ed7953\"],[0.7777777777777778,\"#fb9f3a\"],[0.8888888888888888,\"#fdca26\"],[1.0,\"#f0f921\"]]}],\"heatmapgl\":[{\"type\":\"heatmapgl\",\"colorbar\":{\"outlinewidth\":0,\"ticks\":\"\"},\"colorscale\":[[0.0,\"#0d0887\"],[0.1111111111111111,\"#46039f\"],[0.2222222222222222,\"#7201a8\"],[0.3333333333333333,\"#9c179e\"],[0.4444444444444444,\"#bd3786\"],[0.5555555555555556,\"#d8576b\"],[0.6666666666666666,\"#ed7953\"],[0.7777777777777778,\"#fb9f3a\"],[0.8888888888888888,\"#fdca26\"],[1.0,\"#f0f921\"]]}],\"contourcarpet\":[{\"type\":\"contourcarpet\",\"colorbar\":{\"outlinewidth\":0,\"ticks\":\"\"}}],\"contour\":[{\"type\":\"contour\",\"colorbar\":{\"outlinewidth\":0,\"ticks\":\"\"},\"colorscale\":[[0.0,\"#0d0887\"],[0.1111111111111111,\"#46039f\"],[0.2222222222222222,\"#7201a8\"],[0.3333333333333333,\"#9c179e\"],[0.4444444444444444,\"#bd3786\"],[0.5555555555555556,\"#d8576b\"],[0.6666666666666666,\"#ed7953\"],[0.7777777777777778,\"#fb9f3a\"],[0.8888888888888888,\"#fdca26\"],[1.0,\"#f0f921\"]]}],\"surface\":[{\"type\":\"surface\",\"colorbar\":{\"outlinewidth\":0,\"ticks\":\"\"},\"colorscale\":[[0.0,\"#0d0887\"],[0.1111111111111111,\"#46039f\"],[0.2222222222222222,\"#7201a8\"],[0.3333333333333333,\"#9c179e\"],[0.4444444444444444,\"#bd3786\"],[0.5555555555555556,\"#d8576b\"],[0.6666666666666666,\"#ed7953\"],[0.7777777777777778,\"#fb9f3a\"],[0.8888888888888888,\"#fdca26\"],[1.0,\"#f0f921\"]]}],\"mesh3d\":[{\"type\":\"mesh3d\",\"colorbar\":{\"outlinewidth\":0,\"ticks\":\"\"}}],\"scatter\":[{\"fillpattern\":{\"fillmode\":\"overlay\",\"size\":10,\"solidity\":0.2},\"type\":\"scatter\"}],\"parcoords\":[{\"type\":\"parcoords\",\"line\":{\"colorbar\":{\"outlinewidth\":0,\"ticks\":\"\"}}}],\"scatterpolargl\":[{\"type\":\"scatterpolargl\",\"marker\":{\"colorbar\":{\"outlinewidth\":0,\"ticks\":\"\"}}}],\"bar\":[{\"error_x\":{\"color\":\"#2a3f5f\"},\"error_y\":{\"color\":\"#2a3f5f\"},\"marker\":{\"line\":{\"color\":\"#E5ECF6\",\"width\":0.5},\"pattern\":{\"fillmode\":\"overlay\",\"size\":10,\"solidity\":0.2}},\"type\":\"bar\"}],\"scattergeo\":[{\"type\":\"scattergeo\",\"marker\":{\"colorbar\":{\"outlinewidth\":0,\"ticks\":\"\"}}}],\"scatterpolar\":[{\"type\":\"scatterpolar\",\"marker\":{\"colorbar\":{\"outlinewidth\":0,\"ticks\":\"\"}}}],\"histogram\":[{\"marker\":{\"pattern\":{\"fillmode\":\"overlay\",\"size\":10,\"solidity\":0.2}},\"type\":\"histogram\"}],\"scattergl\":[{\"type\":\"scattergl\",\"marker\":{\"colorbar\":{\"outlinewidth\":0,\"ticks\":\"\"}}}],\"scatter3d\":[{\"type\":\"scatter3d\",\"line\":{\"colorbar\":{\"outlinewidth\":0,\"ticks\":\"\"}},\"marker\":{\"colorbar\":{\"outlinewidth\":0,\"ticks\":\"\"}}}],\"scattermapbox\":[{\"type\":\"scattermapbox\",\"marker\":{\"colorbar\":{\"outlinewidth\":0,\"ticks\":\"\"}}}],\"scatterternary\":[{\"type\":\"scatterternary\",\"marker\":{\"colorbar\":{\"outlinewidth\":0,\"ticks\":\"\"}}}],\"scattercarpet\":[{\"type\":\"scattercarpet\",\"marker\":{\"colorbar\":{\"outlinewidth\":0,\"ticks\":\"\"}}}],\"carpet\":[{\"aaxis\":{\"endlinecolor\":\"#2a3f5f\",\"gridcolor\":\"white\",\"linecolor\":\"white\",\"minorgridcolor\":\"white\",\"startlinecolor\":\"#2a3f5f\"},\"baxis\":{\"endlinecolor\":\"#2a3f5f\",\"gridcolor\":\"white\",\"linecolor\":\"white\",\"minorgridcolor\":\"white\",\"startlinecolor\":\"#2a3f5f\"},\"type\":\"carpet\"}],\"table\":[{\"cells\":{\"fill\":{\"color\":\"#EBF0F8\"},\"line\":{\"color\":\"white\"}},\"header\":{\"fill\":{\"color\":\"#C8D4E3\"},\"line\":{\"color\":\"white\"}},\"type\":\"table\"}],\"barpolar\":[{\"marker\":{\"line\":{\"color\":\"#E5ECF6\",\"width\":0.5},\"pattern\":{\"fillmode\":\"overlay\",\"size\":10,\"solidity\":0.2}},\"type\":\"barpolar\"}],\"pie\":[{\"automargin\":true,\"type\":\"pie\"}]},\"layout\":{\"autotypenumbers\":\"strict\",\"colorway\":[\"#636efa\",\"#EF553B\",\"#00cc96\",\"#ab63fa\",\"#FFA15A\",\"#19d3f3\",\"#FF6692\",\"#B6E880\",\"#FF97FF\",\"#FECB52\"],\"font\":{\"color\":\"#2a3f5f\"},\"hovermode\":\"closest\",\"hoverlabel\":{\"align\":\"left\"},\"paper_bgcolor\":\"white\",\"plot_bgcolor\":\"#E5ECF6\",\"polar\":{\"bgcolor\":\"#E5ECF6\",\"angularaxis\":{\"gridcolor\":\"white\",\"linecolor\":\"white\",\"ticks\":\"\"},\"radialaxis\":{\"gridcolor\":\"white\",\"linecolor\":\"white\",\"ticks\":\"\"}},\"ternary\":{\"bgcolor\":\"#E5ECF6\",\"aaxis\":{\"gridcolor\":\"white\",\"linecolor\":\"white\",\"ticks\":\"\"},\"baxis\":{\"gridcolor\":\"white\",\"linecolor\":\"white\",\"ticks\":\"\"},\"caxis\":{\"gridcolor\":\"white\",\"linecolor\":\"white\",\"ticks\":\"\"}},\"coloraxis\":{\"colorbar\":{\"outlinewidth\":0,\"ticks\":\"\"}},\"colorscale\":{\"sequential\":[[0.0,\"#0d0887\"],[0.1111111111111111,\"#46039f\"],[0.2222222222222222,\"#7201a8\"],[0.3333333333333333,\"#9c179e\"],[0.4444444444444444,\"#bd3786\"],[0.5555555555555556,\"#d8576b\"],[0.6666666666666666,\"#ed7953\"],[0.7777777777777778,\"#fb9f3a\"],[0.8888888888888888,\"#fdca26\"],[1.0,\"#f0f921\"]],\"sequentialminus\":[[0.0,\"#0d0887\"],[0.1111111111111111,\"#46039f\"],[0.2222222222222222,\"#7201a8\"],[0.3333333333333333,\"#9c179e\"],[0.4444444444444444,\"#bd3786\"],[0.5555555555555556,\"#d8576b\"],[0.6666666666666666,\"#ed7953\"],[0.7777777777777778,\"#fb9f3a\"],[0.8888888888888888,\"#fdca26\"],[1.0,\"#f0f921\"]],\"diverging\":[[0,\"#8e0152\"],[0.1,\"#c51b7d\"],[0.2,\"#de77ae\"],[0.3,\"#f1b6da\"],[0.4,\"#fde0ef\"],[0.5,\"#f7f7f7\"],[0.6,\"#e6f5d0\"],[0.7,\"#b8e186\"],[0.8,\"#7fbc41\"],[0.9,\"#4d9221\"],[1,\"#276419\"]]},\"xaxis\":{\"gridcolor\":\"white\",\"linecolor\":\"white\",\"ticks\":\"\",\"title\":{\"standoff\":15},\"zerolinecolor\":\"white\",\"automargin\":true,\"zerolinewidth\":2},\"yaxis\":{\"gridcolor\":\"white\",\"linecolor\":\"white\",\"ticks\":\"\",\"title\":{\"standoff\":15},\"zerolinecolor\":\"white\",\"automargin\":true,\"zerolinewidth\":2},\"scene\":{\"xaxis\":{\"backgroundcolor\":\"#E5ECF6\",\"gridcolor\":\"white\",\"linecolor\":\"white\",\"showbackground\":true,\"ticks\":\"\",\"zerolinecolor\":\"white\",\"gridwidth\":2},\"yaxis\":{\"backgroundcolor\":\"#E5ECF6\",\"gridcolor\":\"white\",\"linecolor\":\"white\",\"showbackground\":true,\"ticks\":\"\",\"zerolinecolor\":\"white\",\"gridwidth\":2},\"zaxis\":{\"backgroundcolor\":\"#E5ECF6\",\"gridcolor\":\"white\",\"linecolor\":\"white\",\"showbackground\":true,\"ticks\":\"\",\"zerolinecolor\":\"white\",\"gridwidth\":2}},\"shapedefaults\":{\"line\":{\"color\":\"#2a3f5f\"}},\"annotationdefaults\":{\"arrowcolor\":\"#2a3f5f\",\"arrowhead\":0,\"arrowwidth\":1},\"geo\":{\"bgcolor\":\"white\",\"landcolor\":\"#E5ECF6\",\"subunitcolor\":\"white\",\"showland\":true,\"showlakes\":true,\"lakecolor\":\"white\"},\"title\":{\"x\":0.05},\"mapbox\":{\"style\":\"light\"}}}},                        {\"responsive\": true}                    ).then(function(){\n",
              "                            \n",
              "var gd = document.getElementById('323f0f03-af4b-4a87-b05f-37efd99f1323');\n",
              "var x = new MutationObserver(function (mutations, observer) {{\n",
              "        var display = window.getComputedStyle(gd).display;\n",
              "        if (!display || display === 'none') {{\n",
              "            console.log([gd, 'removed!']);\n",
              "            Plotly.purge(gd);\n",
              "            observer.disconnect();\n",
              "        }}\n",
              "}});\n",
              "\n",
              "// Listen for the removal of the full notebook cells\n",
              "var notebookContainer = gd.closest('#notebook-container');\n",
              "if (notebookContainer) {{\n",
              "    x.observe(notebookContainer, {childList: true});\n",
              "}}\n",
              "\n",
              "// Listen for the clearing of the current output cell\n",
              "var outputEl = gd.closest('.output');\n",
              "if (outputEl) {{\n",
              "    x.observe(outputEl, {childList: true});\n",
              "}}\n",
              "\n",
              "                        })                };                            </script>        </div>\n",
              "</body>\n",
              "</html>"
            ]
          },
          "metadata": {}
        },
        {
          "output_type": "stream",
          "name": "stdout",
          "text": [
            "Actual pagerank values : {0: 0.05719562172254118, 1: 0.189631624248947, 2: 0.10671231470002875, 3: 0.05757214484105508, 4: 0.06745112549139684, 5: 0.18656600454006025, 6: 0.09531901822425903, 7: 0.15520227240097803, 8: 0.015000000000000003, 9: 0.06934987383073407}\n"
          ]
        },
        {
          "output_type": "display_data",
          "data": {
            "text/html": [
              "<html>\n",
              "<head><meta charset=\"utf-8\" /></head>\n",
              "<body>\n",
              "    <div>            <script src=\"https://cdnjs.cloudflare.com/ajax/libs/mathjax/2.7.5/MathJax.js?config=TeX-AMS-MML_SVG\"></script><script type=\"text/javascript\">if (window.MathJax && window.MathJax.Hub && window.MathJax.Hub.Config) {window.MathJax.Hub.Config({SVG: {font: \"STIX-Web\"}});}</script>                <script type=\"text/javascript\">window.PlotlyConfig = {MathJaxConfig: 'local'};</script>\n",
              "        <script charset=\"utf-8\" src=\"https://cdn.plot.ly/plotly-2.35.2.min.js\"></script>                <div id=\"b9c6701f-cb5d-41a9-acf2-5b9b276b1d02\" class=\"plotly-graph-div\" style=\"height:525px; width:100%;\"></div>            <script type=\"text/javascript\">                                    window.PLOTLYENV=window.PLOTLYENV || {};                                    if (document.getElementById(\"b9c6701f-cb5d-41a9-acf2-5b9b276b1d02\")) {                    Plotly.newPlot(                        \"b9c6701f-cb5d-41a9-acf2-5b9b276b1d02\",                        [{\"hoverinfo\":\"none\",\"line\":{\"color\":\"black\",\"width\":1},\"mode\":\"lines\",\"x\":[-0.17563383084757747,-0.2968289517451485,null,-0.17563383084757747,0.2811378336180952,null,-0.17563383084757747,-0.7745051360294132,null,-0.17563383084757747,0.5727065098461936,null,-0.2968289517451485,0.2811378336180952,null,-0.2968289517451485,-0.7745051360294132,null,-0.2968289517451485,-0.1504729675087979,null,-0.2968289517451485,0.19724997736079014,null,0.2811378336180952,0.00007593996806242046,null,0.2811378336180952,-0.1504729675087979,null,0.2811378336180952,0.19724997736079014,null,0.00007593996806242046,-0.2968289517451485,null,0.00007593996806242046,0.2811378336180952,null,0.00007593996806242046,0.00007593996806242046,null,0.00007593996806242046,-0.1504729675087979,null,0.00007593996806242046,0.19724997736079014,null,-0.7745051360294132,0.19724997736079014,null,0.2541350554476249,-0.17563383084757747,null,0.2541350554476249,-0.2968289517451485,null,0.2541350554476249,0.2541350554476249,null,0.2541350554476249,0.5727065098461936,null,-0.1504729675087979,-0.2968289517451485,null,0.19724997736079014,0.2541350554476249,null,0.09213556989017185,-0.17563383084757747,null,0.09213556989017185,-0.2968289517451485,null,0.09213556989017185,0.00007593996806242046,null,0.09213556989017185,0.19724997736079014,null,0.09213556989017185,0.5727065098461936,null,0.5727065098461936,-0.2968289517451485,null,0.5727065098461936,0.2811378336180952,null],\"y\":[-0.13060949577306571,0.12280158965340818,null,-0.13060949577306571,0.28045745850230036,null,-0.13060949577306571,-0.2778166717456164,null,-0.13060949577306571,0.016308704301580716,null,0.12280158965340818,0.28045745850230036,null,0.12280158965340818,-0.2778166717456164,null,0.12280158965340818,1.0,null,0.12280158965340818,-0.8284118533306617,null,0.28045745850230036,0.2588487021249703,null,0.28045745850230036,1.0,null,0.28045745850230036,-0.8284118533306617,null,0.2588487021249703,0.12280158965340818,null,0.2588487021249703,0.28045745850230036,null,0.2588487021249703,0.2588487021249703,null,0.2588487021249703,1.0,null,0.2588487021249703,-0.8284118533306617,null,-0.2778166717456164,-0.8284118533306617,null,-0.09946038178860957,-0.13060949577306571,null,-0.09946038178860957,0.12280158965340818,null,-0.09946038178860957,-0.09946038178860957,null,-0.09946038178860957,0.016308704301580716,null,1.0,0.12280158965340818,null,-0.8284118533306617,-0.09946038178860957,null,-0.3421180519443068,-0.13060949577306571,null,-0.3421180519443068,0.12280158965340818,null,-0.3421180519443068,0.2588487021249703,null,-0.3421180519443068,-0.8284118533306617,null,-0.3421180519443068,0.016308704301580716,null,0.016308704301580716,0.12280158965340818,null,0.016308704301580716,0.28045745850230036,null],\"type\":\"scatter\"},{\"hoverinfo\":\"none\",\"marker\":{\"angle\":-90,\"color\":\"black\",\"size\":8,\"symbol\":\"triangle-up\"},\"mode\":\"markers\",\"x\":[-0.236231391296363,0.05275200138525886,-0.4750694834384953,0.1985363394993081,-0.007845559063526658,-0.5356670438872808,-0.2236509596269732,-0.04978948719217918,0.1406068867930788,0.06533243305464864,0.23919390548944267,-0.14837650588854304,0.1406068867930788,0.00007593996806242046,-0.07519851377036774,0.09866295866442629,-0.2886275793343115,0.039250612300023704,-0.021346948148761813,0.2541350554476249,0.4134207826469093,-0.2236509596269732,0.2256925164042075,-0.04174913047870281,-0.10234669092748833,0.046105754929117136,0.144692773625481,0.3324210398681827,0.13793877905052257,0.4269221717321444],\"y\":[-0.0039039530598287686,0.07492398136461732,-0.20421308375934105,-0.0571503957357425,0.20162952407785428,-0.07750754104610412,0.5614007948267041,-0.3528051318386268,0.26965308031363533,0.6402287292511502,-0.2739771974141807,0.19082514588918925,0.26965308031363533,0.2588487021249703,0.6294243510624852,-0.28478157560284567,-0.5531142625381391,-0.11503493878083765,0.011670603932399305,-0.09946038178860957,-0.04157583874351443,0.5614007948267041,-0.46393611755963565,-0.23636377385868623,-0.1096582311454493,-0.04163467490966824,-0.5852649526374842,-0.16290467382136303,0.06955514697749444,0.14838308140194054],\"type\":\"scatter\"},{\"hoverinfo\":\"text\",\"marker\":{\"color\":[0.1,0.1,0.1,0.1,0.1,0.1,0.1,0.1,0.1,0.1],\"colorbar\":{\"thickness\":15,\"title\":{\"side\":\"right\",\"text\":\"PageRank Value\"},\"xanchor\":\"left\"},\"colorscale\":[[0.0,\"rgb(255,255,217)\"],[0.125,\"rgb(237,248,177)\"],[0.25,\"rgb(199,233,180)\"],[0.375,\"rgb(127,205,187)\"],[0.5,\"rgb(65,182,196)\"],[0.625,\"rgb(29,145,192)\"],[0.75,\"rgb(34,94,168)\"],[0.875,\"rgb(37,52,148)\"],[1.0,\"rgb(8,29,88)\"]],\"line\":{\"width\":2},\"showscale\":true,\"size\":20},\"mode\":\"markers\",\"text\":[\"Page 0 - PageRank: 0.100\",\"Page 1 - PageRank: 0.100\",\"Page 2 - PageRank: 0.100\",\"Page 3 - PageRank: 0.100\",\"Page 4 - PageRank: 0.100\",\"Page 5 - PageRank: 0.100\",\"Page 6 - PageRank: 0.100\",\"Page 7 - PageRank: 0.100\",\"Page 8 - PageRank: 0.100\",\"Page 9 - PageRank: 0.100\"],\"x\":[-0.17563383084757747,-0.2968289517451485,0.2811378336180952,0.00007593996806242046,-0.7745051360294132,0.2541350554476249,-0.1504729675087979,0.19724997736079014,0.09213556989017185,0.5727065098461936],\"y\":[-0.13060949577306571,0.12280158965340818,0.28045745850230036,0.2588487021249703,-0.2778166717456164,-0.09946038178860957,1.0,-0.8284118533306617,-0.3421180519443068,0.016308704301580716],\"type\":\"scatter\"}],                        {\"annotations\":[{\"showarrow\":false,\"text\":\"Directed graph representing webpage linkages\",\"x\":0.005,\"xref\":\"paper\",\"y\":-0.002,\"yref\":\"paper\"}],\"hovermode\":\"closest\",\"margin\":{\"b\":0,\"l\":0,\"r\":0,\"t\":40},\"showlegend\":false,\"title\":{\"font\":{\"size\":16},\"text\":\"Webpage Linkage Graph (PageRank Visualization)\"},\"xaxis\":{\"showgrid\":false,\"zeroline\":false},\"yaxis\":{\"showgrid\":false,\"zeroline\":false},\"template\":{\"data\":{\"histogram2dcontour\":[{\"type\":\"histogram2dcontour\",\"colorbar\":{\"outlinewidth\":0,\"ticks\":\"\"},\"colorscale\":[[0.0,\"#0d0887\"],[0.1111111111111111,\"#46039f\"],[0.2222222222222222,\"#7201a8\"],[0.3333333333333333,\"#9c179e\"],[0.4444444444444444,\"#bd3786\"],[0.5555555555555556,\"#d8576b\"],[0.6666666666666666,\"#ed7953\"],[0.7777777777777778,\"#fb9f3a\"],[0.8888888888888888,\"#fdca26\"],[1.0,\"#f0f921\"]]}],\"choropleth\":[{\"type\":\"choropleth\",\"colorbar\":{\"outlinewidth\":0,\"ticks\":\"\"}}],\"histogram2d\":[{\"type\":\"histogram2d\",\"colorbar\":{\"outlinewidth\":0,\"ticks\":\"\"},\"colorscale\":[[0.0,\"#0d0887\"],[0.1111111111111111,\"#46039f\"],[0.2222222222222222,\"#7201a8\"],[0.3333333333333333,\"#9c179e\"],[0.4444444444444444,\"#bd3786\"],[0.5555555555555556,\"#d8576b\"],[0.6666666666666666,\"#ed7953\"],[0.7777777777777778,\"#fb9f3a\"],[0.8888888888888888,\"#fdca26\"],[1.0,\"#f0f921\"]]}],\"heatmap\":[{\"type\":\"heatmap\",\"colorbar\":{\"outlinewidth\":0,\"ticks\":\"\"},\"colorscale\":[[0.0,\"#0d0887\"],[0.1111111111111111,\"#46039f\"],[0.2222222222222222,\"#7201a8\"],[0.3333333333333333,\"#9c179e\"],[0.4444444444444444,\"#bd3786\"],[0.5555555555555556,\"#d8576b\"],[0.6666666666666666,\"#ed7953\"],[0.7777777777777778,\"#fb9f3a\"],[0.8888888888888888,\"#fdca26\"],[1.0,\"#f0f921\"]]}],\"heatmapgl\":[{\"type\":\"heatmapgl\",\"colorbar\":{\"outlinewidth\":0,\"ticks\":\"\"},\"colorscale\":[[0.0,\"#0d0887\"],[0.1111111111111111,\"#46039f\"],[0.2222222222222222,\"#7201a8\"],[0.3333333333333333,\"#9c179e\"],[0.4444444444444444,\"#bd3786\"],[0.5555555555555556,\"#d8576b\"],[0.6666666666666666,\"#ed7953\"],[0.7777777777777778,\"#fb9f3a\"],[0.8888888888888888,\"#fdca26\"],[1.0,\"#f0f921\"]]}],\"contourcarpet\":[{\"type\":\"contourcarpet\",\"colorbar\":{\"outlinewidth\":0,\"ticks\":\"\"}}],\"contour\":[{\"type\":\"contour\",\"colorbar\":{\"outlinewidth\":0,\"ticks\":\"\"},\"colorscale\":[[0.0,\"#0d0887\"],[0.1111111111111111,\"#46039f\"],[0.2222222222222222,\"#7201a8\"],[0.3333333333333333,\"#9c179e\"],[0.4444444444444444,\"#bd3786\"],[0.5555555555555556,\"#d8576b\"],[0.6666666666666666,\"#ed7953\"],[0.7777777777777778,\"#fb9f3a\"],[0.8888888888888888,\"#fdca26\"],[1.0,\"#f0f921\"]]}],\"surface\":[{\"type\":\"surface\",\"colorbar\":{\"outlinewidth\":0,\"ticks\":\"\"},\"colorscale\":[[0.0,\"#0d0887\"],[0.1111111111111111,\"#46039f\"],[0.2222222222222222,\"#7201a8\"],[0.3333333333333333,\"#9c179e\"],[0.4444444444444444,\"#bd3786\"],[0.5555555555555556,\"#d8576b\"],[0.6666666666666666,\"#ed7953\"],[0.7777777777777778,\"#fb9f3a\"],[0.8888888888888888,\"#fdca26\"],[1.0,\"#f0f921\"]]}],\"mesh3d\":[{\"type\":\"mesh3d\",\"colorbar\":{\"outlinewidth\":0,\"ticks\":\"\"}}],\"scatter\":[{\"fillpattern\":{\"fillmode\":\"overlay\",\"size\":10,\"solidity\":0.2},\"type\":\"scatter\"}],\"parcoords\":[{\"type\":\"parcoords\",\"line\":{\"colorbar\":{\"outlinewidth\":0,\"ticks\":\"\"}}}],\"scatterpolargl\":[{\"type\":\"scatterpolargl\",\"marker\":{\"colorbar\":{\"outlinewidth\":0,\"ticks\":\"\"}}}],\"bar\":[{\"error_x\":{\"color\":\"#2a3f5f\"},\"error_y\":{\"color\":\"#2a3f5f\"},\"marker\":{\"line\":{\"color\":\"#E5ECF6\",\"width\":0.5},\"pattern\":{\"fillmode\":\"overlay\",\"size\":10,\"solidity\":0.2}},\"type\":\"bar\"}],\"scattergeo\":[{\"type\":\"scattergeo\",\"marker\":{\"colorbar\":{\"outlinewidth\":0,\"ticks\":\"\"}}}],\"scatterpolar\":[{\"type\":\"scatterpolar\",\"marker\":{\"colorbar\":{\"outlinewidth\":0,\"ticks\":\"\"}}}],\"histogram\":[{\"marker\":{\"pattern\":{\"fillmode\":\"overlay\",\"size\":10,\"solidity\":0.2}},\"type\":\"histogram\"}],\"scattergl\":[{\"type\":\"scattergl\",\"marker\":{\"colorbar\":{\"outlinewidth\":0,\"ticks\":\"\"}}}],\"scatter3d\":[{\"type\":\"scatter3d\",\"line\":{\"colorbar\":{\"outlinewidth\":0,\"ticks\":\"\"}},\"marker\":{\"colorbar\":{\"outlinewidth\":0,\"ticks\":\"\"}}}],\"scattermapbox\":[{\"type\":\"scattermapbox\",\"marker\":{\"colorbar\":{\"outlinewidth\":0,\"ticks\":\"\"}}}],\"scatterternary\":[{\"type\":\"scatterternary\",\"marker\":{\"colorbar\":{\"outlinewidth\":0,\"ticks\":\"\"}}}],\"scattercarpet\":[{\"type\":\"scattercarpet\",\"marker\":{\"colorbar\":{\"outlinewidth\":0,\"ticks\":\"\"}}}],\"carpet\":[{\"aaxis\":{\"endlinecolor\":\"#2a3f5f\",\"gridcolor\":\"white\",\"linecolor\":\"white\",\"minorgridcolor\":\"white\",\"startlinecolor\":\"#2a3f5f\"},\"baxis\":{\"endlinecolor\":\"#2a3f5f\",\"gridcolor\":\"white\",\"linecolor\":\"white\",\"minorgridcolor\":\"white\",\"startlinecolor\":\"#2a3f5f\"},\"type\":\"carpet\"}],\"table\":[{\"cells\":{\"fill\":{\"color\":\"#EBF0F8\"},\"line\":{\"color\":\"white\"}},\"header\":{\"fill\":{\"color\":\"#C8D4E3\"},\"line\":{\"color\":\"white\"}},\"type\":\"table\"}],\"barpolar\":[{\"marker\":{\"line\":{\"color\":\"#E5ECF6\",\"width\":0.5},\"pattern\":{\"fillmode\":\"overlay\",\"size\":10,\"solidity\":0.2}},\"type\":\"barpolar\"}],\"pie\":[{\"automargin\":true,\"type\":\"pie\"}]},\"layout\":{\"autotypenumbers\":\"strict\",\"colorway\":[\"#636efa\",\"#EF553B\",\"#00cc96\",\"#ab63fa\",\"#FFA15A\",\"#19d3f3\",\"#FF6692\",\"#B6E880\",\"#FF97FF\",\"#FECB52\"],\"font\":{\"color\":\"#2a3f5f\"},\"hovermode\":\"closest\",\"hoverlabel\":{\"align\":\"left\"},\"paper_bgcolor\":\"white\",\"plot_bgcolor\":\"#E5ECF6\",\"polar\":{\"bgcolor\":\"#E5ECF6\",\"angularaxis\":{\"gridcolor\":\"white\",\"linecolor\":\"white\",\"ticks\":\"\"},\"radialaxis\":{\"gridcolor\":\"white\",\"linecolor\":\"white\",\"ticks\":\"\"}},\"ternary\":{\"bgcolor\":\"#E5ECF6\",\"aaxis\":{\"gridcolor\":\"white\",\"linecolor\":\"white\",\"ticks\":\"\"},\"baxis\":{\"gridcolor\":\"white\",\"linecolor\":\"white\",\"ticks\":\"\"},\"caxis\":{\"gridcolor\":\"white\",\"linecolor\":\"white\",\"ticks\":\"\"}},\"coloraxis\":{\"colorbar\":{\"outlinewidth\":0,\"ticks\":\"\"}},\"colorscale\":{\"sequential\":[[0.0,\"#0d0887\"],[0.1111111111111111,\"#46039f\"],[0.2222222222222222,\"#7201a8\"],[0.3333333333333333,\"#9c179e\"],[0.4444444444444444,\"#bd3786\"],[0.5555555555555556,\"#d8576b\"],[0.6666666666666666,\"#ed7953\"],[0.7777777777777778,\"#fb9f3a\"],[0.8888888888888888,\"#fdca26\"],[1.0,\"#f0f921\"]],\"sequentialminus\":[[0.0,\"#0d0887\"],[0.1111111111111111,\"#46039f\"],[0.2222222222222222,\"#7201a8\"],[0.3333333333333333,\"#9c179e\"],[0.4444444444444444,\"#bd3786\"],[0.5555555555555556,\"#d8576b\"],[0.6666666666666666,\"#ed7953\"],[0.7777777777777778,\"#fb9f3a\"],[0.8888888888888888,\"#fdca26\"],[1.0,\"#f0f921\"]],\"diverging\":[[0,\"#8e0152\"],[0.1,\"#c51b7d\"],[0.2,\"#de77ae\"],[0.3,\"#f1b6da\"],[0.4,\"#fde0ef\"],[0.5,\"#f7f7f7\"],[0.6,\"#e6f5d0\"],[0.7,\"#b8e186\"],[0.8,\"#7fbc41\"],[0.9,\"#4d9221\"],[1,\"#276419\"]]},\"xaxis\":{\"gridcolor\":\"white\",\"linecolor\":\"white\",\"ticks\":\"\",\"title\":{\"standoff\":15},\"zerolinecolor\":\"white\",\"automargin\":true,\"zerolinewidth\":2},\"yaxis\":{\"gridcolor\":\"white\",\"linecolor\":\"white\",\"ticks\":\"\",\"title\":{\"standoff\":15},\"zerolinecolor\":\"white\",\"automargin\":true,\"zerolinewidth\":2},\"scene\":{\"xaxis\":{\"backgroundcolor\":\"#E5ECF6\",\"gridcolor\":\"white\",\"linecolor\":\"white\",\"showbackground\":true,\"ticks\":\"\",\"zerolinecolor\":\"white\",\"gridwidth\":2},\"yaxis\":{\"backgroundcolor\":\"#E5ECF6\",\"gridcolor\":\"white\",\"linecolor\":\"white\",\"showbackground\":true,\"ticks\":\"\",\"zerolinecolor\":\"white\",\"gridwidth\":2},\"zaxis\":{\"backgroundcolor\":\"#E5ECF6\",\"gridcolor\":\"white\",\"linecolor\":\"white\",\"showbackground\":true,\"ticks\":\"\",\"zerolinecolor\":\"white\",\"gridwidth\":2}},\"shapedefaults\":{\"line\":{\"color\":\"#2a3f5f\"}},\"annotationdefaults\":{\"arrowcolor\":\"#2a3f5f\",\"arrowhead\":0,\"arrowwidth\":1},\"geo\":{\"bgcolor\":\"white\",\"landcolor\":\"#E5ECF6\",\"subunitcolor\":\"white\",\"showland\":true,\"showlakes\":true,\"lakecolor\":\"white\"},\"title\":{\"x\":0.05},\"mapbox\":{\"style\":\"light\"}}}},                        {\"responsive\": true}                    ).then(function(){\n",
              "                            \n",
              "var gd = document.getElementById('b9c6701f-cb5d-41a9-acf2-5b9b276b1d02');\n",
              "var x = new MutationObserver(function (mutations, observer) {{\n",
              "        var display = window.getComputedStyle(gd).display;\n",
              "        if (!display || display === 'none') {{\n",
              "            console.log([gd, 'removed!']);\n",
              "            Plotly.purge(gd);\n",
              "            observer.disconnect();\n",
              "        }}\n",
              "}});\n",
              "\n",
              "// Listen for the removal of the full notebook cells\n",
              "var notebookContainer = gd.closest('#notebook-container');\n",
              "if (notebookContainer) {{\n",
              "    x.observe(notebookContainer, {childList: true});\n",
              "}}\n",
              "\n",
              "// Listen for the clearing of the current output cell\n",
              "var outputEl = gd.closest('.output');\n",
              "if (outputEl) {{\n",
              "    x.observe(outputEl, {childList: true});\n",
              "}}\n",
              "\n",
              "                        })                };                            </script>        </div>\n",
              "</body>\n",
              "</html>"
            ]
          },
          "metadata": {}
        },
        {
          "output_type": "stream",
          "name": "stdout",
          "text": [
            "Values I found : {0: 0.1, 1: 0.1, 2: 0.1, 3: 0.1, 4: 0.1, 5: 0.1, 6: 0.1, 7: 0.1, 8: 0.1, 9: 0.1}\n"
          ]
        }
      ],
      "source": [
        "''' visualize your generated graph '''\n",
        "\n",
        "\"\"\"\n",
        "Just run this cell.\n",
        "Whenever you want to visualize the graph based on\n",
        "your current values, activate the test mine flag.\n",
        "\"\"\"\n",
        "\n",
        "\n",
        "def visualize_graph(G, testMine = False , myProbs = []):\n",
        "    pos = nx.spring_layout(G, seed=42)\n",
        "\n",
        "    edge_x = []\n",
        "    edge_y = []\n",
        "    arrow_x = []\n",
        "    arrow_y = []\n",
        "    for edge in G.edges():\n",
        "        x0, y0 = pos[edge[0]]\n",
        "        x1, y1 = pos[edge[1]]\n",
        "        edge_x.append(x0)\n",
        "        edge_x.append(x1)\n",
        "        edge_x.append(None)\n",
        "        edge_y.append(y0)\n",
        "        edge_y.append(y1)\n",
        "        edge_y.append(None)\n",
        "\n",
        "        arrow_x.append((x0 + x1) / 2)\n",
        "        arrow_y.append((y0 + y1) / 2)\n",
        "\n",
        "    edge_trace = go.Scatter(\n",
        "        x=edge_x, y=edge_y,\n",
        "        line=dict(width=1, color='black'),\n",
        "        hoverinfo='none',\n",
        "        mode='lines'\n",
        "    )\n",
        "\n",
        "    arrow_trace = go.Scatter(\n",
        "        x=arrow_x, y=arrow_y,\n",
        "        mode='markers',\n",
        "        marker=dict(\n",
        "            size=8,\n",
        "            color='black',\n",
        "            symbol='triangle-up',\n",
        "            angle=-90\n",
        "        ),\n",
        "        hoverinfo='none'\n",
        "    )\n",
        "\n",
        "    node_x = []\n",
        "    node_y = []\n",
        "    for node in G.nodes():\n",
        "        x, y = pos[node]\n",
        "        node_x.append(x)\n",
        "        node_y.append(y)\n",
        "\n",
        "    node_trace = go.Scatter(\n",
        "        x=node_x, y=node_y,\n",
        "        mode='markers',\n",
        "        hoverinfo='text',\n",
        "        marker=dict(\n",
        "            showscale=True,\n",
        "            colorscale='YlGnBu',\n",
        "            size=20,\n",
        "            color=[],\n",
        "            colorbar=dict(\n",
        "                thickness=15,\n",
        "                title='PageRank Value',\n",
        "                xanchor='left',\n",
        "                titleside='right'\n",
        "            ),\n",
        "            line_width=2))\n",
        "\n",
        "    node_color = []\n",
        "    node_text = []\n",
        "    pagerank_values = nx.pagerank(G)\n",
        "    for node in G.nodes():\n",
        "        if testMine:\n",
        "            node_color.append(myProbs[node])\n",
        "            node_text.append(f'Page {node} - PageRank: {myProbs[node]:.3f}')\n",
        "        else:\n",
        "            node_color.append(pagerank_values[node])\n",
        "            node_text.append(f'Page {node} - PageRank: {pagerank_values[node]:.3f}')\n",
        "\n",
        "    node_trace.marker.color = node_color\n",
        "    node_trace.text = node_text\n",
        "\n",
        "    fig = go.Figure(data=[edge_trace, arrow_trace,  node_trace],\n",
        "                    layout=go.Layout(\n",
        "                        title='Webpage Linkage Graph (PageRank Visualization)',\n",
        "                        titlefont_size=16,\n",
        "                        showlegend=False,\n",
        "                        hovermode='closest',\n",
        "                        margin=dict(b=0, l=0, r=0, t=40),\n",
        "                        annotations=[dict(\n",
        "                            text=\"Directed graph representing webpage linkages\",\n",
        "                            showarrow=False,\n",
        "                            xref=\"paper\", yref=\"paper\",\n",
        "                            x=0.005, y=-0.002)],\n",
        "                        xaxis=dict(showgrid=False, zeroline=False),\n",
        "                        yaxis=dict(showgrid=False, zeroline=False)))\n",
        "\n",
        "    fig.show()\n",
        "    return pagerank_values\n",
        "\n",
        "goalProbs = visualize_graph(graph)\n",
        "print(f'Actual pagerank values : {goalProbs}')\n",
        "myProbs = {key : 1/len(goalProbs) for key in goalProbs}\n",
        "visualize_graph(graph, testMine=True , myProbs=myProbs)\n",
        "print(f'Values I found : {myProbs}')\n"
      ]
    },
    {
      "cell_type": "markdown",
      "metadata": {
        "id": "Ujw2o4rvrV3w"
      },
      "source": [
        "Repeat the 3 cells above as many times as necessary until you reach a graph you are happy with. Keep in mind, as you have seen, the plot is interactive, allowing you to see the names of the nodes and their assigned values. Additionally, there are two extra parameters passed to the function:\n",
        "\n",
        "1. The first parameter is for testing mode, which lets you view the ranking based on your current state values. If not in testing mode, the default is the true ranking value.\n",
        "   \n",
        "2. The second parameter is the dictionary you have prepared for your test.\n",
        "\n",
        "From here, we will explore a Markovian process to determine the stationary ranking we can reach by setting the convergence threshold. We start from uniformly distributed probabilities.\n"
      ]
    },
    {
      "cell_type": "markdown",
      "metadata": {
        "id": "OImuv0eGrV3x"
      },
      "source": [
        "In the transposed version of the adjacency matrix, column *i* indicates to which other nodes we can proceed. By normalizing the columns so that each sums up to one, we can observe the probability of transitioning from node *i* to node *j*. This means that, to determine the probability of moving from node *i* to node *j*, we look at column *i* and row *j*.\n",
        "\n",
        "When this matrix is multiplied by the current distribution of probabilities (the probability of being at each node, stored in `myProbs`), we get new probabilities. These represent the updated distribution after one iteration, according to the equation:\n",
        "\n",
        "$\n",
        "P_{t+1} = T \\cdot P_t\n",
        "$\n",
        "\n",
        "Here, we implement this process over a certain number of iterations and plot the difference between the current probability vector and the previous one at each iteration. This allows us to track the convergence and understand when the distribution stabilizes.\n"
      ]
    },
    {
      "cell_type": "code",
      "execution_count": null,
      "metadata": {
        "colab": {
          "base_uri": "https://localhost:8080/",
          "height": 1000
        },
        "id": "wVfZU0m4rV3x",
        "outputId": "0a0c44b5-fe52-4962-c402-2d00e35adb4b"
      },
      "outputs": [
        {
          "output_type": "display_data",
          "data": {
            "text/html": [
              "<html>\n",
              "<head><meta charset=\"utf-8\" /></head>\n",
              "<body>\n",
              "    <div>            <script src=\"https://cdnjs.cloudflare.com/ajax/libs/mathjax/2.7.5/MathJax.js?config=TeX-AMS-MML_SVG\"></script><script type=\"text/javascript\">if (window.MathJax && window.MathJax.Hub && window.MathJax.Hub.Config) {window.MathJax.Hub.Config({SVG: {font: \"STIX-Web\"}});}</script>                <script type=\"text/javascript\">window.PlotlyConfig = {MathJaxConfig: 'local'};</script>\n",
              "        <script charset=\"utf-8\" src=\"https://cdn.plot.ly/plotly-2.35.2.min.js\"></script>                <div id=\"5e1ebef2-68d5-4172-ad41-015e4cd7177d\" class=\"plotly-graph-div\" style=\"height:525px; width:100%;\"></div>            <script type=\"text/javascript\">                                    window.PLOTLYENV=window.PLOTLYENV || {};                                    if (document.getElementById(\"5e1ebef2-68d5-4172-ad41-015e4cd7177d\")) {                    Plotly.newPlot(                        \"5e1ebef2-68d5-4172-ad41-015e4cd7177d\",                        [{\"hoverinfo\":\"none\",\"line\":{\"color\":\"black\",\"width\":1},\"mode\":\"lines\",\"x\":[-0.17563383084757747,-0.2968289517451485,null,-0.17563383084757747,0.2811378336180952,null,-0.17563383084757747,-0.7745051360294132,null,-0.17563383084757747,0.5727065098461936,null,-0.2968289517451485,0.2811378336180952,null,-0.2968289517451485,-0.7745051360294132,null,-0.2968289517451485,-0.1504729675087979,null,-0.2968289517451485,0.19724997736079014,null,0.2811378336180952,0.00007593996806242046,null,0.2811378336180952,-0.1504729675087979,null,0.2811378336180952,0.19724997736079014,null,0.00007593996806242046,-0.2968289517451485,null,0.00007593996806242046,0.2811378336180952,null,0.00007593996806242046,0.00007593996806242046,null,0.00007593996806242046,-0.1504729675087979,null,0.00007593996806242046,0.19724997736079014,null,-0.7745051360294132,0.19724997736079014,null,0.2541350554476249,-0.17563383084757747,null,0.2541350554476249,-0.2968289517451485,null,0.2541350554476249,0.2541350554476249,null,0.2541350554476249,0.5727065098461936,null,-0.1504729675087979,-0.2968289517451485,null,0.19724997736079014,0.2541350554476249,null,0.09213556989017185,-0.17563383084757747,null,0.09213556989017185,-0.2968289517451485,null,0.09213556989017185,0.00007593996806242046,null,0.09213556989017185,0.19724997736079014,null,0.09213556989017185,0.5727065098461936,null,0.5727065098461936,-0.2968289517451485,null,0.5727065098461936,0.2811378336180952,null],\"y\":[-0.13060949577306571,0.12280158965340818,null,-0.13060949577306571,0.28045745850230036,null,-0.13060949577306571,-0.2778166717456164,null,-0.13060949577306571,0.016308704301580716,null,0.12280158965340818,0.28045745850230036,null,0.12280158965340818,-0.2778166717456164,null,0.12280158965340818,1.0,null,0.12280158965340818,-0.8284118533306617,null,0.28045745850230036,0.2588487021249703,null,0.28045745850230036,1.0,null,0.28045745850230036,-0.8284118533306617,null,0.2588487021249703,0.12280158965340818,null,0.2588487021249703,0.28045745850230036,null,0.2588487021249703,0.2588487021249703,null,0.2588487021249703,1.0,null,0.2588487021249703,-0.8284118533306617,null,-0.2778166717456164,-0.8284118533306617,null,-0.09946038178860957,-0.13060949577306571,null,-0.09946038178860957,0.12280158965340818,null,-0.09946038178860957,-0.09946038178860957,null,-0.09946038178860957,0.016308704301580716,null,1.0,0.12280158965340818,null,-0.8284118533306617,-0.09946038178860957,null,-0.3421180519443068,-0.13060949577306571,null,-0.3421180519443068,0.12280158965340818,null,-0.3421180519443068,0.2588487021249703,null,-0.3421180519443068,-0.8284118533306617,null,-0.3421180519443068,0.016308704301580716,null,0.016308704301580716,0.12280158965340818,null,0.016308704301580716,0.28045745850230036,null],\"type\":\"scatter\"},{\"hoverinfo\":\"none\",\"marker\":{\"angle\":-90,\"color\":\"black\",\"size\":8,\"symbol\":\"triangle-up\"},\"mode\":\"markers\",\"x\":[-0.236231391296363,0.05275200138525886,-0.4750694834384953,0.1985363394993081,-0.007845559063526658,-0.5356670438872808,-0.2236509596269732,-0.04978948719217918,0.1406068867930788,0.06533243305464864,0.23919390548944267,-0.14837650588854304,0.1406068867930788,0.00007593996806242046,-0.07519851377036774,0.09866295866442629,-0.2886275793343115,0.039250612300023704,-0.021346948148761813,0.2541350554476249,0.4134207826469093,-0.2236509596269732,0.2256925164042075,-0.04174913047870281,-0.10234669092748833,0.046105754929117136,0.144692773625481,0.3324210398681827,0.13793877905052257,0.4269221717321444],\"y\":[-0.0039039530598287686,0.07492398136461732,-0.20421308375934105,-0.0571503957357425,0.20162952407785428,-0.07750754104610412,0.5614007948267041,-0.3528051318386268,0.26965308031363533,0.6402287292511502,-0.2739771974141807,0.19082514588918925,0.26965308031363533,0.2588487021249703,0.6294243510624852,-0.28478157560284567,-0.5531142625381391,-0.11503493878083765,0.011670603932399305,-0.09946038178860957,-0.04157583874351443,0.5614007948267041,-0.46393611755963565,-0.23636377385868623,-0.1096582311454493,-0.04163467490966824,-0.5852649526374842,-0.16290467382136303,0.06955514697749444,0.14838308140194054],\"type\":\"scatter\"},{\"hoverinfo\":\"text\",\"marker\":{\"color\":[5.721718483312781e-14,5.904507930188202e-14,6.525451094939581e-14,9.678481527249614e-14,2.1594473395419554e-14,1.4858613390190428e-13,1.1863548971224671e-14,8.956337582227625e-14,1.195099354643398e-13,3.1530304323100326e-14],\"colorbar\":{\"thickness\":15,\"title\":{\"side\":\"right\",\"text\":\"PageRank Value\"},\"xanchor\":\"left\"},\"colorscale\":[[0.0,\"rgb(255,255,217)\"],[0.125,\"rgb(237,248,177)\"],[0.25,\"rgb(199,233,180)\"],[0.375,\"rgb(127,205,187)\"],[0.5,\"rgb(65,182,196)\"],[0.625,\"rgb(29,145,192)\"],[0.75,\"rgb(34,94,168)\"],[0.875,\"rgb(37,52,148)\"],[1.0,\"rgb(8,29,88)\"]],\"line\":{\"width\":2},\"showscale\":true,\"size\":20},\"mode\":\"markers\",\"text\":[\"Page 0 - PageRank: 0.000\",\"Page 1 - PageRank: 0.000\",\"Page 2 - PageRank: 0.000\",\"Page 3 - PageRank: 0.000\",\"Page 4 - PageRank: 0.000\",\"Page 5 - PageRank: 0.000\",\"Page 6 - PageRank: 0.000\",\"Page 7 - PageRank: 0.000\",\"Page 8 - PageRank: 0.000\",\"Page 9 - PageRank: 0.000\"],\"x\":[-0.17563383084757747,-0.2968289517451485,0.2811378336180952,0.00007593996806242046,-0.7745051360294132,0.2541350554476249,-0.1504729675087979,0.19724997736079014,0.09213556989017185,0.5727065098461936],\"y\":[-0.13060949577306571,0.12280158965340818,0.28045745850230036,0.2588487021249703,-0.2778166717456164,-0.09946038178860957,1.0,-0.8284118533306617,-0.3421180519443068,0.016308704301580716],\"type\":\"scatter\"}],                        {\"annotations\":[{\"showarrow\":false,\"text\":\"Directed graph representing webpage linkages\",\"x\":0.005,\"xref\":\"paper\",\"y\":-0.002,\"yref\":\"paper\"}],\"hovermode\":\"closest\",\"margin\":{\"b\":0,\"l\":0,\"r\":0,\"t\":40},\"showlegend\":false,\"title\":{\"font\":{\"size\":16},\"text\":\"Webpage Linkage Graph (PageRank Visualization)\"},\"xaxis\":{\"showgrid\":false,\"zeroline\":false},\"yaxis\":{\"showgrid\":false,\"zeroline\":false},\"template\":{\"data\":{\"histogram2dcontour\":[{\"type\":\"histogram2dcontour\",\"colorbar\":{\"outlinewidth\":0,\"ticks\":\"\"},\"colorscale\":[[0.0,\"#0d0887\"],[0.1111111111111111,\"#46039f\"],[0.2222222222222222,\"#7201a8\"],[0.3333333333333333,\"#9c179e\"],[0.4444444444444444,\"#bd3786\"],[0.5555555555555556,\"#d8576b\"],[0.6666666666666666,\"#ed7953\"],[0.7777777777777778,\"#fb9f3a\"],[0.8888888888888888,\"#fdca26\"],[1.0,\"#f0f921\"]]}],\"choropleth\":[{\"type\":\"choropleth\",\"colorbar\":{\"outlinewidth\":0,\"ticks\":\"\"}}],\"histogram2d\":[{\"type\":\"histogram2d\",\"colorbar\":{\"outlinewidth\":0,\"ticks\":\"\"},\"colorscale\":[[0.0,\"#0d0887\"],[0.1111111111111111,\"#46039f\"],[0.2222222222222222,\"#7201a8\"],[0.3333333333333333,\"#9c179e\"],[0.4444444444444444,\"#bd3786\"],[0.5555555555555556,\"#d8576b\"],[0.6666666666666666,\"#ed7953\"],[0.7777777777777778,\"#fb9f3a\"],[0.8888888888888888,\"#fdca26\"],[1.0,\"#f0f921\"]]}],\"heatmap\":[{\"type\":\"heatmap\",\"colorbar\":{\"outlinewidth\":0,\"ticks\":\"\"},\"colorscale\":[[0.0,\"#0d0887\"],[0.1111111111111111,\"#46039f\"],[0.2222222222222222,\"#7201a8\"],[0.3333333333333333,\"#9c179e\"],[0.4444444444444444,\"#bd3786\"],[0.5555555555555556,\"#d8576b\"],[0.6666666666666666,\"#ed7953\"],[0.7777777777777778,\"#fb9f3a\"],[0.8888888888888888,\"#fdca26\"],[1.0,\"#f0f921\"]]}],\"heatmapgl\":[{\"type\":\"heatmapgl\",\"colorbar\":{\"outlinewidth\":0,\"ticks\":\"\"},\"colorscale\":[[0.0,\"#0d0887\"],[0.1111111111111111,\"#46039f\"],[0.2222222222222222,\"#7201a8\"],[0.3333333333333333,\"#9c179e\"],[0.4444444444444444,\"#bd3786\"],[0.5555555555555556,\"#d8576b\"],[0.6666666666666666,\"#ed7953\"],[0.7777777777777778,\"#fb9f3a\"],[0.8888888888888888,\"#fdca26\"],[1.0,\"#f0f921\"]]}],\"contourcarpet\":[{\"type\":\"contourcarpet\",\"colorbar\":{\"outlinewidth\":0,\"ticks\":\"\"}}],\"contour\":[{\"type\":\"contour\",\"colorbar\":{\"outlinewidth\":0,\"ticks\":\"\"},\"colorscale\":[[0.0,\"#0d0887\"],[0.1111111111111111,\"#46039f\"],[0.2222222222222222,\"#7201a8\"],[0.3333333333333333,\"#9c179e\"],[0.4444444444444444,\"#bd3786\"],[0.5555555555555556,\"#d8576b\"],[0.6666666666666666,\"#ed7953\"],[0.7777777777777778,\"#fb9f3a\"],[0.8888888888888888,\"#fdca26\"],[1.0,\"#f0f921\"]]}],\"surface\":[{\"type\":\"surface\",\"colorbar\":{\"outlinewidth\":0,\"ticks\":\"\"},\"colorscale\":[[0.0,\"#0d0887\"],[0.1111111111111111,\"#46039f\"],[0.2222222222222222,\"#7201a8\"],[0.3333333333333333,\"#9c179e\"],[0.4444444444444444,\"#bd3786\"],[0.5555555555555556,\"#d8576b\"],[0.6666666666666666,\"#ed7953\"],[0.7777777777777778,\"#fb9f3a\"],[0.8888888888888888,\"#fdca26\"],[1.0,\"#f0f921\"]]}],\"mesh3d\":[{\"type\":\"mesh3d\",\"colorbar\":{\"outlinewidth\":0,\"ticks\":\"\"}}],\"scatter\":[{\"fillpattern\":{\"fillmode\":\"overlay\",\"size\":10,\"solidity\":0.2},\"type\":\"scatter\"}],\"parcoords\":[{\"type\":\"parcoords\",\"line\":{\"colorbar\":{\"outlinewidth\":0,\"ticks\":\"\"}}}],\"scatterpolargl\":[{\"type\":\"scatterpolargl\",\"marker\":{\"colorbar\":{\"outlinewidth\":0,\"ticks\":\"\"}}}],\"bar\":[{\"error_x\":{\"color\":\"#2a3f5f\"},\"error_y\":{\"color\":\"#2a3f5f\"},\"marker\":{\"line\":{\"color\":\"#E5ECF6\",\"width\":0.5},\"pattern\":{\"fillmode\":\"overlay\",\"size\":10,\"solidity\":0.2}},\"type\":\"bar\"}],\"scattergeo\":[{\"type\":\"scattergeo\",\"marker\":{\"colorbar\":{\"outlinewidth\":0,\"ticks\":\"\"}}}],\"scatterpolar\":[{\"type\":\"scatterpolar\",\"marker\":{\"colorbar\":{\"outlinewidth\":0,\"ticks\":\"\"}}}],\"histogram\":[{\"marker\":{\"pattern\":{\"fillmode\":\"overlay\",\"size\":10,\"solidity\":0.2}},\"type\":\"histogram\"}],\"scattergl\":[{\"type\":\"scattergl\",\"marker\":{\"colorbar\":{\"outlinewidth\":0,\"ticks\":\"\"}}}],\"scatter3d\":[{\"type\":\"scatter3d\",\"line\":{\"colorbar\":{\"outlinewidth\":0,\"ticks\":\"\"}},\"marker\":{\"colorbar\":{\"outlinewidth\":0,\"ticks\":\"\"}}}],\"scattermapbox\":[{\"type\":\"scattermapbox\",\"marker\":{\"colorbar\":{\"outlinewidth\":0,\"ticks\":\"\"}}}],\"scatterternary\":[{\"type\":\"scatterternary\",\"marker\":{\"colorbar\":{\"outlinewidth\":0,\"ticks\":\"\"}}}],\"scattercarpet\":[{\"type\":\"scattercarpet\",\"marker\":{\"colorbar\":{\"outlinewidth\":0,\"ticks\":\"\"}}}],\"carpet\":[{\"aaxis\":{\"endlinecolor\":\"#2a3f5f\",\"gridcolor\":\"white\",\"linecolor\":\"white\",\"minorgridcolor\":\"white\",\"startlinecolor\":\"#2a3f5f\"},\"baxis\":{\"endlinecolor\":\"#2a3f5f\",\"gridcolor\":\"white\",\"linecolor\":\"white\",\"minorgridcolor\":\"white\",\"startlinecolor\":\"#2a3f5f\"},\"type\":\"carpet\"}],\"table\":[{\"cells\":{\"fill\":{\"color\":\"#EBF0F8\"},\"line\":{\"color\":\"white\"}},\"header\":{\"fill\":{\"color\":\"#C8D4E3\"},\"line\":{\"color\":\"white\"}},\"type\":\"table\"}],\"barpolar\":[{\"marker\":{\"line\":{\"color\":\"#E5ECF6\",\"width\":0.5},\"pattern\":{\"fillmode\":\"overlay\",\"size\":10,\"solidity\":0.2}},\"type\":\"barpolar\"}],\"pie\":[{\"automargin\":true,\"type\":\"pie\"}]},\"layout\":{\"autotypenumbers\":\"strict\",\"colorway\":[\"#636efa\",\"#EF553B\",\"#00cc96\",\"#ab63fa\",\"#FFA15A\",\"#19d3f3\",\"#FF6692\",\"#B6E880\",\"#FF97FF\",\"#FECB52\"],\"font\":{\"color\":\"#2a3f5f\"},\"hovermode\":\"closest\",\"hoverlabel\":{\"align\":\"left\"},\"paper_bgcolor\":\"white\",\"plot_bgcolor\":\"#E5ECF6\",\"polar\":{\"bgcolor\":\"#E5ECF6\",\"angularaxis\":{\"gridcolor\":\"white\",\"linecolor\":\"white\",\"ticks\":\"\"},\"radialaxis\":{\"gridcolor\":\"white\",\"linecolor\":\"white\",\"ticks\":\"\"}},\"ternary\":{\"bgcolor\":\"#E5ECF6\",\"aaxis\":{\"gridcolor\":\"white\",\"linecolor\":\"white\",\"ticks\":\"\"},\"baxis\":{\"gridcolor\":\"white\",\"linecolor\":\"white\",\"ticks\":\"\"},\"caxis\":{\"gridcolor\":\"white\",\"linecolor\":\"white\",\"ticks\":\"\"}},\"coloraxis\":{\"colorbar\":{\"outlinewidth\":0,\"ticks\":\"\"}},\"colorscale\":{\"sequential\":[[0.0,\"#0d0887\"],[0.1111111111111111,\"#46039f\"],[0.2222222222222222,\"#7201a8\"],[0.3333333333333333,\"#9c179e\"],[0.4444444444444444,\"#bd3786\"],[0.5555555555555556,\"#d8576b\"],[0.6666666666666666,\"#ed7953\"],[0.7777777777777778,\"#fb9f3a\"],[0.8888888888888888,\"#fdca26\"],[1.0,\"#f0f921\"]],\"sequentialminus\":[[0.0,\"#0d0887\"],[0.1111111111111111,\"#46039f\"],[0.2222222222222222,\"#7201a8\"],[0.3333333333333333,\"#9c179e\"],[0.4444444444444444,\"#bd3786\"],[0.5555555555555556,\"#d8576b\"],[0.6666666666666666,\"#ed7953\"],[0.7777777777777778,\"#fb9f3a\"],[0.8888888888888888,\"#fdca26\"],[1.0,\"#f0f921\"]],\"diverging\":[[0,\"#8e0152\"],[0.1,\"#c51b7d\"],[0.2,\"#de77ae\"],[0.3,\"#f1b6da\"],[0.4,\"#fde0ef\"],[0.5,\"#f7f7f7\"],[0.6,\"#e6f5d0\"],[0.7,\"#b8e186\"],[0.8,\"#7fbc41\"],[0.9,\"#4d9221\"],[1,\"#276419\"]]},\"xaxis\":{\"gridcolor\":\"white\",\"linecolor\":\"white\",\"ticks\":\"\",\"title\":{\"standoff\":15},\"zerolinecolor\":\"white\",\"automargin\":true,\"zerolinewidth\":2},\"yaxis\":{\"gridcolor\":\"white\",\"linecolor\":\"white\",\"ticks\":\"\",\"title\":{\"standoff\":15},\"zerolinecolor\":\"white\",\"automargin\":true,\"zerolinewidth\":2},\"scene\":{\"xaxis\":{\"backgroundcolor\":\"#E5ECF6\",\"gridcolor\":\"white\",\"linecolor\":\"white\",\"showbackground\":true,\"ticks\":\"\",\"zerolinecolor\":\"white\",\"gridwidth\":2},\"yaxis\":{\"backgroundcolor\":\"#E5ECF6\",\"gridcolor\":\"white\",\"linecolor\":\"white\",\"showbackground\":true,\"ticks\":\"\",\"zerolinecolor\":\"white\",\"gridwidth\":2},\"zaxis\":{\"backgroundcolor\":\"#E5ECF6\",\"gridcolor\":\"white\",\"linecolor\":\"white\",\"showbackground\":true,\"ticks\":\"\",\"zerolinecolor\":\"white\",\"gridwidth\":2}},\"shapedefaults\":{\"line\":{\"color\":\"#2a3f5f\"}},\"annotationdefaults\":{\"arrowcolor\":\"#2a3f5f\",\"arrowhead\":0,\"arrowwidth\":1},\"geo\":{\"bgcolor\":\"white\",\"landcolor\":\"#E5ECF6\",\"subunitcolor\":\"white\",\"showland\":true,\"showlakes\":true,\"lakecolor\":\"white\"},\"title\":{\"x\":0.05},\"mapbox\":{\"style\":\"light\"}}}},                        {\"responsive\": true}                    ).then(function(){\n",
              "                            \n",
              "var gd = document.getElementById('5e1ebef2-68d5-4172-ad41-015e4cd7177d');\n",
              "var x = new MutationObserver(function (mutations, observer) {{\n",
              "        var display = window.getComputedStyle(gd).display;\n",
              "        if (!display || display === 'none') {{\n",
              "            console.log([gd, 'removed!']);\n",
              "            Plotly.purge(gd);\n",
              "            observer.disconnect();\n",
              "        }}\n",
              "}});\n",
              "\n",
              "// Listen for the removal of the full notebook cells\n",
              "var notebookContainer = gd.closest('#notebook-container');\n",
              "if (notebookContainer) {{\n",
              "    x.observe(notebookContainer, {childList: true});\n",
              "}}\n",
              "\n",
              "// Listen for the clearing of the current output cell\n",
              "var outputEl = gd.closest('.output');\n",
              "if (outputEl) {{\n",
              "    x.observe(outputEl, {childList: true});\n",
              "}}\n",
              "\n",
              "                        })                };                            </script>        </div>\n",
              "</body>\n",
              "</html>"
            ]
          },
          "metadata": {}
        },
        {
          "output_type": "display_data",
          "data": {
            "text/html": [
              "<html>\n",
              "<head><meta charset=\"utf-8\" /></head>\n",
              "<body>\n",
              "    <div>            <script src=\"https://cdnjs.cloudflare.com/ajax/libs/mathjax/2.7.5/MathJax.js?config=TeX-AMS-MML_SVG\"></script><script type=\"text/javascript\">if (window.MathJax && window.MathJax.Hub && window.MathJax.Hub.Config) {window.MathJax.Hub.Config({SVG: {font: \"STIX-Web\"}});}</script>                <script type=\"text/javascript\">window.PlotlyConfig = {MathJaxConfig: 'local'};</script>\n",
              "        <script charset=\"utf-8\" src=\"https://cdn.plot.ly/plotly-2.35.2.min.js\"></script>                <div id=\"a0a47627-636f-42d7-82c6-4efd5b2ef74d\" class=\"plotly-graph-div\" style=\"height:525px; width:100%;\"></div>            <script type=\"text/javascript\">                                    window.PLOTLYENV=window.PLOTLYENV || {};                                    if (document.getElementById(\"a0a47627-636f-42d7-82c6-4efd5b2ef74d\")) {                    Plotly.newPlot(                        \"a0a47627-636f-42d7-82c6-4efd5b2ef74d\",                        [{\"hoverinfo\":\"none\",\"line\":{\"color\":\"black\",\"width\":1},\"mode\":\"lines\",\"x\":[-0.17563383084757747,-0.2968289517451485,null,-0.17563383084757747,0.2811378336180952,null,-0.17563383084757747,-0.7745051360294132,null,-0.17563383084757747,0.5727065098461936,null,-0.2968289517451485,0.2811378336180952,null,-0.2968289517451485,-0.7745051360294132,null,-0.2968289517451485,-0.1504729675087979,null,-0.2968289517451485,0.19724997736079014,null,0.2811378336180952,0.00007593996806242046,null,0.2811378336180952,-0.1504729675087979,null,0.2811378336180952,0.19724997736079014,null,0.00007593996806242046,-0.2968289517451485,null,0.00007593996806242046,0.2811378336180952,null,0.00007593996806242046,0.00007593996806242046,null,0.00007593996806242046,-0.1504729675087979,null,0.00007593996806242046,0.19724997736079014,null,-0.7745051360294132,0.19724997736079014,null,0.2541350554476249,-0.17563383084757747,null,0.2541350554476249,-0.2968289517451485,null,0.2541350554476249,0.2541350554476249,null,0.2541350554476249,0.5727065098461936,null,-0.1504729675087979,-0.2968289517451485,null,0.19724997736079014,0.2541350554476249,null,0.09213556989017185,-0.17563383084757747,null,0.09213556989017185,-0.2968289517451485,null,0.09213556989017185,0.00007593996806242046,null,0.09213556989017185,0.19724997736079014,null,0.09213556989017185,0.5727065098461936,null,0.5727065098461936,-0.2968289517451485,null,0.5727065098461936,0.2811378336180952,null],\"y\":[-0.13060949577306571,0.12280158965340818,null,-0.13060949577306571,0.28045745850230036,null,-0.13060949577306571,-0.2778166717456164,null,-0.13060949577306571,0.016308704301580716,null,0.12280158965340818,0.28045745850230036,null,0.12280158965340818,-0.2778166717456164,null,0.12280158965340818,1.0,null,0.12280158965340818,-0.8284118533306617,null,0.28045745850230036,0.2588487021249703,null,0.28045745850230036,1.0,null,0.28045745850230036,-0.8284118533306617,null,0.2588487021249703,0.12280158965340818,null,0.2588487021249703,0.28045745850230036,null,0.2588487021249703,0.2588487021249703,null,0.2588487021249703,1.0,null,0.2588487021249703,-0.8284118533306617,null,-0.2778166717456164,-0.8284118533306617,null,-0.09946038178860957,-0.13060949577306571,null,-0.09946038178860957,0.12280158965340818,null,-0.09946038178860957,-0.09946038178860957,null,-0.09946038178860957,0.016308704301580716,null,1.0,0.12280158965340818,null,-0.8284118533306617,-0.09946038178860957,null,-0.3421180519443068,-0.13060949577306571,null,-0.3421180519443068,0.12280158965340818,null,-0.3421180519443068,0.2588487021249703,null,-0.3421180519443068,-0.8284118533306617,null,-0.3421180519443068,0.016308704301580716,null,0.016308704301580716,0.12280158965340818,null,0.016308704301580716,0.28045745850230036,null],\"type\":\"scatter\"},{\"hoverinfo\":\"none\",\"marker\":{\"angle\":-90,\"color\":\"black\",\"size\":8,\"symbol\":\"triangle-up\"},\"mode\":\"markers\",\"x\":[-0.236231391296363,0.05275200138525886,-0.4750694834384953,0.1985363394993081,-0.007845559063526658,-0.5356670438872808,-0.2236509596269732,-0.04978948719217918,0.1406068867930788,0.06533243305464864,0.23919390548944267,-0.14837650588854304,0.1406068867930788,0.00007593996806242046,-0.07519851377036774,0.09866295866442629,-0.2886275793343115,0.039250612300023704,-0.021346948148761813,0.2541350554476249,0.4134207826469093,-0.2236509596269732,0.2256925164042075,-0.04174913047870281,-0.10234669092748833,0.046105754929117136,0.144692773625481,0.3324210398681827,0.13793877905052257,0.4269221717321444],\"y\":[-0.0039039530598287686,0.07492398136461732,-0.20421308375934105,-0.0571503957357425,0.20162952407785428,-0.07750754104610412,0.5614007948267041,-0.3528051318386268,0.26965308031363533,0.6402287292511502,-0.2739771974141807,0.19082514588918925,0.26965308031363533,0.2588487021249703,0.6294243510624852,-0.28478157560284567,-0.5531142625381391,-0.11503493878083765,0.011670603932399305,-0.09946038178860957,-0.04157583874351443,0.5614007948267041,-0.46393611755963565,-0.23636377385868623,-0.1096582311454493,-0.04163467490966824,-0.5852649526374842,-0.16290467382136303,0.06955514697749444,0.14838308140194054],\"type\":\"scatter\"},{\"hoverinfo\":\"text\",\"marker\":{\"color\":[0.05719562172254118,0.189631624248947,0.10671231470002875,0.05757214484105508,0.06745112549139684,0.18656600454006025,0.09531901822425903,0.15520227240097803,0.015000000000000003,0.06934987383073407],\"colorbar\":{\"thickness\":15,\"title\":{\"side\":\"right\",\"text\":\"PageRank Value\"},\"xanchor\":\"left\"},\"colorscale\":[[0.0,\"rgb(255,255,217)\"],[0.125,\"rgb(237,248,177)\"],[0.25,\"rgb(199,233,180)\"],[0.375,\"rgb(127,205,187)\"],[0.5,\"rgb(65,182,196)\"],[0.625,\"rgb(29,145,192)\"],[0.75,\"rgb(34,94,168)\"],[0.875,\"rgb(37,52,148)\"],[1.0,\"rgb(8,29,88)\"]],\"line\":{\"width\":2},\"showscale\":true,\"size\":20},\"mode\":\"markers\",\"text\":[\"Page 0 - PageRank: 0.057\",\"Page 1 - PageRank: 0.190\",\"Page 2 - PageRank: 0.107\",\"Page 3 - PageRank: 0.058\",\"Page 4 - PageRank: 0.067\",\"Page 5 - PageRank: 0.187\",\"Page 6 - PageRank: 0.095\",\"Page 7 - PageRank: 0.155\",\"Page 8 - PageRank: 0.015\",\"Page 9 - PageRank: 0.069\"],\"x\":[-0.17563383084757747,-0.2968289517451485,0.2811378336180952,0.00007593996806242046,-0.7745051360294132,0.2541350554476249,-0.1504729675087979,0.19724997736079014,0.09213556989017185,0.5727065098461936],\"y\":[-0.13060949577306571,0.12280158965340818,0.28045745850230036,0.2588487021249703,-0.2778166717456164,-0.09946038178860957,1.0,-0.8284118533306617,-0.3421180519443068,0.016308704301580716],\"type\":\"scatter\"}],                        {\"annotations\":[{\"showarrow\":false,\"text\":\"Directed graph representing webpage linkages\",\"x\":0.005,\"xref\":\"paper\",\"y\":-0.002,\"yref\":\"paper\"}],\"hovermode\":\"closest\",\"margin\":{\"b\":0,\"l\":0,\"r\":0,\"t\":40},\"showlegend\":false,\"title\":{\"font\":{\"size\":16},\"text\":\"Webpage Linkage Graph (PageRank Visualization)\"},\"xaxis\":{\"showgrid\":false,\"zeroline\":false},\"yaxis\":{\"showgrid\":false,\"zeroline\":false},\"template\":{\"data\":{\"histogram2dcontour\":[{\"type\":\"histogram2dcontour\",\"colorbar\":{\"outlinewidth\":0,\"ticks\":\"\"},\"colorscale\":[[0.0,\"#0d0887\"],[0.1111111111111111,\"#46039f\"],[0.2222222222222222,\"#7201a8\"],[0.3333333333333333,\"#9c179e\"],[0.4444444444444444,\"#bd3786\"],[0.5555555555555556,\"#d8576b\"],[0.6666666666666666,\"#ed7953\"],[0.7777777777777778,\"#fb9f3a\"],[0.8888888888888888,\"#fdca26\"],[1.0,\"#f0f921\"]]}],\"choropleth\":[{\"type\":\"choropleth\",\"colorbar\":{\"outlinewidth\":0,\"ticks\":\"\"}}],\"histogram2d\":[{\"type\":\"histogram2d\",\"colorbar\":{\"outlinewidth\":0,\"ticks\":\"\"},\"colorscale\":[[0.0,\"#0d0887\"],[0.1111111111111111,\"#46039f\"],[0.2222222222222222,\"#7201a8\"],[0.3333333333333333,\"#9c179e\"],[0.4444444444444444,\"#bd3786\"],[0.5555555555555556,\"#d8576b\"],[0.6666666666666666,\"#ed7953\"],[0.7777777777777778,\"#fb9f3a\"],[0.8888888888888888,\"#fdca26\"],[1.0,\"#f0f921\"]]}],\"heatmap\":[{\"type\":\"heatmap\",\"colorbar\":{\"outlinewidth\":0,\"ticks\":\"\"},\"colorscale\":[[0.0,\"#0d0887\"],[0.1111111111111111,\"#46039f\"],[0.2222222222222222,\"#7201a8\"],[0.3333333333333333,\"#9c179e\"],[0.4444444444444444,\"#bd3786\"],[0.5555555555555556,\"#d8576b\"],[0.6666666666666666,\"#ed7953\"],[0.7777777777777778,\"#fb9f3a\"],[0.8888888888888888,\"#fdca26\"],[1.0,\"#f0f921\"]]}],\"heatmapgl\":[{\"type\":\"heatmapgl\",\"colorbar\":{\"outlinewidth\":0,\"ticks\":\"\"},\"colorscale\":[[0.0,\"#0d0887\"],[0.1111111111111111,\"#46039f\"],[0.2222222222222222,\"#7201a8\"],[0.3333333333333333,\"#9c179e\"],[0.4444444444444444,\"#bd3786\"],[0.5555555555555556,\"#d8576b\"],[0.6666666666666666,\"#ed7953\"],[0.7777777777777778,\"#fb9f3a\"],[0.8888888888888888,\"#fdca26\"],[1.0,\"#f0f921\"]]}],\"contourcarpet\":[{\"type\":\"contourcarpet\",\"colorbar\":{\"outlinewidth\":0,\"ticks\":\"\"}}],\"contour\":[{\"type\":\"contour\",\"colorbar\":{\"outlinewidth\":0,\"ticks\":\"\"},\"colorscale\":[[0.0,\"#0d0887\"],[0.1111111111111111,\"#46039f\"],[0.2222222222222222,\"#7201a8\"],[0.3333333333333333,\"#9c179e\"],[0.4444444444444444,\"#bd3786\"],[0.5555555555555556,\"#d8576b\"],[0.6666666666666666,\"#ed7953\"],[0.7777777777777778,\"#fb9f3a\"],[0.8888888888888888,\"#fdca26\"],[1.0,\"#f0f921\"]]}],\"surface\":[{\"type\":\"surface\",\"colorbar\":{\"outlinewidth\":0,\"ticks\":\"\"},\"colorscale\":[[0.0,\"#0d0887\"],[0.1111111111111111,\"#46039f\"],[0.2222222222222222,\"#7201a8\"],[0.3333333333333333,\"#9c179e\"],[0.4444444444444444,\"#bd3786\"],[0.5555555555555556,\"#d8576b\"],[0.6666666666666666,\"#ed7953\"],[0.7777777777777778,\"#fb9f3a\"],[0.8888888888888888,\"#fdca26\"],[1.0,\"#f0f921\"]]}],\"mesh3d\":[{\"type\":\"mesh3d\",\"colorbar\":{\"outlinewidth\":0,\"ticks\":\"\"}}],\"scatter\":[{\"fillpattern\":{\"fillmode\":\"overlay\",\"size\":10,\"solidity\":0.2},\"type\":\"scatter\"}],\"parcoords\":[{\"type\":\"parcoords\",\"line\":{\"colorbar\":{\"outlinewidth\":0,\"ticks\":\"\"}}}],\"scatterpolargl\":[{\"type\":\"scatterpolargl\",\"marker\":{\"colorbar\":{\"outlinewidth\":0,\"ticks\":\"\"}}}],\"bar\":[{\"error_x\":{\"color\":\"#2a3f5f\"},\"error_y\":{\"color\":\"#2a3f5f\"},\"marker\":{\"line\":{\"color\":\"#E5ECF6\",\"width\":0.5},\"pattern\":{\"fillmode\":\"overlay\",\"size\":10,\"solidity\":0.2}},\"type\":\"bar\"}],\"scattergeo\":[{\"type\":\"scattergeo\",\"marker\":{\"colorbar\":{\"outlinewidth\":0,\"ticks\":\"\"}}}],\"scatterpolar\":[{\"type\":\"scatterpolar\",\"marker\":{\"colorbar\":{\"outlinewidth\":0,\"ticks\":\"\"}}}],\"histogram\":[{\"marker\":{\"pattern\":{\"fillmode\":\"overlay\",\"size\":10,\"solidity\":0.2}},\"type\":\"histogram\"}],\"scattergl\":[{\"type\":\"scattergl\",\"marker\":{\"colorbar\":{\"outlinewidth\":0,\"ticks\":\"\"}}}],\"scatter3d\":[{\"type\":\"scatter3d\",\"line\":{\"colorbar\":{\"outlinewidth\":0,\"ticks\":\"\"}},\"marker\":{\"colorbar\":{\"outlinewidth\":0,\"ticks\":\"\"}}}],\"scattermapbox\":[{\"type\":\"scattermapbox\",\"marker\":{\"colorbar\":{\"outlinewidth\":0,\"ticks\":\"\"}}}],\"scatterternary\":[{\"type\":\"scatterternary\",\"marker\":{\"colorbar\":{\"outlinewidth\":0,\"ticks\":\"\"}}}],\"scattercarpet\":[{\"type\":\"scattercarpet\",\"marker\":{\"colorbar\":{\"outlinewidth\":0,\"ticks\":\"\"}}}],\"carpet\":[{\"aaxis\":{\"endlinecolor\":\"#2a3f5f\",\"gridcolor\":\"white\",\"linecolor\":\"white\",\"minorgridcolor\":\"white\",\"startlinecolor\":\"#2a3f5f\"},\"baxis\":{\"endlinecolor\":\"#2a3f5f\",\"gridcolor\":\"white\",\"linecolor\":\"white\",\"minorgridcolor\":\"white\",\"startlinecolor\":\"#2a3f5f\"},\"type\":\"carpet\"}],\"table\":[{\"cells\":{\"fill\":{\"color\":\"#EBF0F8\"},\"line\":{\"color\":\"white\"}},\"header\":{\"fill\":{\"color\":\"#C8D4E3\"},\"line\":{\"color\":\"white\"}},\"type\":\"table\"}],\"barpolar\":[{\"marker\":{\"line\":{\"color\":\"#E5ECF6\",\"width\":0.5},\"pattern\":{\"fillmode\":\"overlay\",\"size\":10,\"solidity\":0.2}},\"type\":\"barpolar\"}],\"pie\":[{\"automargin\":true,\"type\":\"pie\"}]},\"layout\":{\"autotypenumbers\":\"strict\",\"colorway\":[\"#636efa\",\"#EF553B\",\"#00cc96\",\"#ab63fa\",\"#FFA15A\",\"#19d3f3\",\"#FF6692\",\"#B6E880\",\"#FF97FF\",\"#FECB52\"],\"font\":{\"color\":\"#2a3f5f\"},\"hovermode\":\"closest\",\"hoverlabel\":{\"align\":\"left\"},\"paper_bgcolor\":\"white\",\"plot_bgcolor\":\"#E5ECF6\",\"polar\":{\"bgcolor\":\"#E5ECF6\",\"angularaxis\":{\"gridcolor\":\"white\",\"linecolor\":\"white\",\"ticks\":\"\"},\"radialaxis\":{\"gridcolor\":\"white\",\"linecolor\":\"white\",\"ticks\":\"\"}},\"ternary\":{\"bgcolor\":\"#E5ECF6\",\"aaxis\":{\"gridcolor\":\"white\",\"linecolor\":\"white\",\"ticks\":\"\"},\"baxis\":{\"gridcolor\":\"white\",\"linecolor\":\"white\",\"ticks\":\"\"},\"caxis\":{\"gridcolor\":\"white\",\"linecolor\":\"white\",\"ticks\":\"\"}},\"coloraxis\":{\"colorbar\":{\"outlinewidth\":0,\"ticks\":\"\"}},\"colorscale\":{\"sequential\":[[0.0,\"#0d0887\"],[0.1111111111111111,\"#46039f\"],[0.2222222222222222,\"#7201a8\"],[0.3333333333333333,\"#9c179e\"],[0.4444444444444444,\"#bd3786\"],[0.5555555555555556,\"#d8576b\"],[0.6666666666666666,\"#ed7953\"],[0.7777777777777778,\"#fb9f3a\"],[0.8888888888888888,\"#fdca26\"],[1.0,\"#f0f921\"]],\"sequentialminus\":[[0.0,\"#0d0887\"],[0.1111111111111111,\"#46039f\"],[0.2222222222222222,\"#7201a8\"],[0.3333333333333333,\"#9c179e\"],[0.4444444444444444,\"#bd3786\"],[0.5555555555555556,\"#d8576b\"],[0.6666666666666666,\"#ed7953\"],[0.7777777777777778,\"#fb9f3a\"],[0.8888888888888888,\"#fdca26\"],[1.0,\"#f0f921\"]],\"diverging\":[[0,\"#8e0152\"],[0.1,\"#c51b7d\"],[0.2,\"#de77ae\"],[0.3,\"#f1b6da\"],[0.4,\"#fde0ef\"],[0.5,\"#f7f7f7\"],[0.6,\"#e6f5d0\"],[0.7,\"#b8e186\"],[0.8,\"#7fbc41\"],[0.9,\"#4d9221\"],[1,\"#276419\"]]},\"xaxis\":{\"gridcolor\":\"white\",\"linecolor\":\"white\",\"ticks\":\"\",\"title\":{\"standoff\":15},\"zerolinecolor\":\"white\",\"automargin\":true,\"zerolinewidth\":2},\"yaxis\":{\"gridcolor\":\"white\",\"linecolor\":\"white\",\"ticks\":\"\",\"title\":{\"standoff\":15},\"zerolinecolor\":\"white\",\"automargin\":true,\"zerolinewidth\":2},\"scene\":{\"xaxis\":{\"backgroundcolor\":\"#E5ECF6\",\"gridcolor\":\"white\",\"linecolor\":\"white\",\"showbackground\":true,\"ticks\":\"\",\"zerolinecolor\":\"white\",\"gridwidth\":2},\"yaxis\":{\"backgroundcolor\":\"#E5ECF6\",\"gridcolor\":\"white\",\"linecolor\":\"white\",\"showbackground\":true,\"ticks\":\"\",\"zerolinecolor\":\"white\",\"gridwidth\":2},\"zaxis\":{\"backgroundcolor\":\"#E5ECF6\",\"gridcolor\":\"white\",\"linecolor\":\"white\",\"showbackground\":true,\"ticks\":\"\",\"zerolinecolor\":\"white\",\"gridwidth\":2}},\"shapedefaults\":{\"line\":{\"color\":\"#2a3f5f\"}},\"annotationdefaults\":{\"arrowcolor\":\"#2a3f5f\",\"arrowhead\":0,\"arrowwidth\":1},\"geo\":{\"bgcolor\":\"white\",\"landcolor\":\"#E5ECF6\",\"subunitcolor\":\"white\",\"showland\":true,\"showlakes\":true,\"lakecolor\":\"white\"},\"title\":{\"x\":0.05},\"mapbox\":{\"style\":\"light\"}}}},                        {\"responsive\": true}                    ).then(function(){\n",
              "                            \n",
              "var gd = document.getElementById('a0a47627-636f-42d7-82c6-4efd5b2ef74d');\n",
              "var x = new MutationObserver(function (mutations, observer) {{\n",
              "        var display = window.getComputedStyle(gd).display;\n",
              "        if (!display || display === 'none') {{\n",
              "            console.log([gd, 'removed!']);\n",
              "            Plotly.purge(gd);\n",
              "            observer.disconnect();\n",
              "        }}\n",
              "}});\n",
              "\n",
              "// Listen for the removal of the full notebook cells\n",
              "var notebookContainer = gd.closest('#notebook-container');\n",
              "if (notebookContainer) {{\n",
              "    x.observe(notebookContainer, {childList: true});\n",
              "}}\n",
              "\n",
              "// Listen for the clearing of the current output cell\n",
              "var outputEl = gd.closest('.output');\n",
              "if (outputEl) {{\n",
              "    x.observe(outputEl, {childList: true});\n",
              "}}\n",
              "\n",
              "                        })                };                            </script>        </div>\n",
              "</body>\n",
              "</html>"
            ]
          },
          "metadata": {}
        }
      ],
      "source": [
        "def find_stationary_values(transitionMatrix, currentValues, iterations=150, treshold=1e-15):\n",
        "   \"\"\"\n",
        "   Parameters:\n",
        "   - transitionMatrix : adj matrix which you need to normalize.\n",
        "   - currentValues : initial probabilities which we initialized with a unifirm distribution.\n",
        "   - iterations : The maximum number of iterations to perform the random walk.\n",
        "   - treshold: The threshold for the difference ( you can use L1 norm ) between consecutive iterations.\n",
        "               The simulation stops when the difference falls below this value.\n",
        "   \"\"\"\n",
        "   # Convert to numpy array if not already\n",
        "   current_probs = np.array(currentValues)\n",
        "\n",
        "   # Normalize transition matrix (column-wise)\n",
        "   col_sums = transitionMatrix.sum(axis=0)\n",
        "   col_sums[col_sums == 0] = 1  # Handle divide by zero\n",
        "   normalizedTransitions = transitionMatrix / col_sums\n",
        "\n",
        "   differences = []\n",
        "   myProbs = {}\n",
        "\n",
        "   # Perform random walk iterations\n",
        "   for i in range(iterations):\n",
        "       # Save previous probabilities for comparison\n",
        "       prev_probs = current_probs.copy()\n",
        "\n",
        "       # Update probabilities using transition matrix\n",
        "       current_probs = normalizedTransitions @ current_probs\n",
        "\n",
        "       # Calculate difference using L1 norm\n",
        "       diff = np.sum(np.abs(current_probs - prev_probs))\n",
        "       differences.append(diff)\n",
        "\n",
        "       # Check for convergence\n",
        "       if diff < treshold:\n",
        "           print(f\"Converged after {i+1} iterations\")\n",
        "           break\n",
        "\n",
        "   # Store final probabilities in dictionary\n",
        "   for i in range(len(current_probs)):\n",
        "       myProbs[i] = current_probs[i]\n",
        "\n",
        "   # Visualize results\n",
        "   visualize_graph(graph, testMine=True, myProbs=myProbs)\n",
        "   visualize_graph(graph)\n",
        "\n",
        "   return normalizedTransitions\n",
        "\n",
        "normalizedTransitions = find_stationary_values(adj, list(myProbs.values()))"
      ]
    },
    {
      "cell_type": "markdown",
      "metadata": {
        "id": "rZfTxSiOrV3y"
      },
      "source": [
        "You might encounter some dangling nodes in the graph, which are nodes with no outgoing edges. When the random walker reaches such a node, no other node is reachable from it, potentially causing `NaN` values in the normalized transition matrix. To handle this, you can assume that the random walker can move to any other node with equal probability.\n",
        "\n",
        "In the context of the transition matrix, this means that you should adjust the matrix to account for these dangling nodes. Specifically, for dangling nodes, replace the corresponding columns with a uniform distribution, ensuring that each node has an equal chance of being the next node.\n"
      ]
    },
    {
      "cell_type": "markdown",
      "metadata": {
        "id": "qmRiSPycrV3z"
      },
      "source": [
        "## Using decomposition\n",
        "\n",
        "Now that we have achieved a ranking that closely matches the actual values, we can proceed with a new approach.\n",
        "\n",
        "When we reach the stable distribution, the transition matrix $ T $ will no longer affect the current state. In other words, we are looking for a vector $ p $ such that:\n",
        "\n",
        "$ p_t = T p_t $\n",
        "\n",
        "Solving for $ p $ is equivalent to finding the eigenvector corresponding to the eigenvalue 1 of $ T $. To do this, we will use QR decomposition to solve the equation.\n",
        "\n",
        "### Tasks\n",
        "\n",
        "1. **Implement an Efficient System of Equation Solver**:\n",
        "   - Use QR decomposition to solve $ (T - I)p = 0 $, where $ I $ is the identity matrix.\n",
        "   - - To find the null space of $ T - I $, we use the Gram-Schmidt process on $ (T - I)^T $ to obtain an orthonormal basis for the row space of $ T - I $. When examining vectors corresponding to larger diagonal values of $ R $, we can determine that these vectors do contribute significantly to the basis of the row space, while the remaining vectors form the null space. This method provides an approximate solution that is close to the exact answer. However, be aware that dividing by the norm in the Gram-Schmidt process can lead to numerical instability, so increasing the precision of calculations is advisable.\n",
        "\n",
        "2. **Compare Results**:\n",
        "   - Compare the computed $ p $ with the actual values to evaluate the accuracy.\n",
        "\n",
        "For a deeper understanding of the PageRank algorithm, you can watch this video: [PageRank Algorithm](https://www.youtube.com/watch?v=TU0ankRcHmo).\n"
      ]
    },
    {
      "cell_type": "code",
      "execution_count": null,
      "metadata": {
        "colab": {
          "base_uri": "https://localhost:8080/",
          "height": 1000
        },
        "id": "hZ74ayWarV3z",
        "outputId": "d765a4de-88f2-48f4-96b0-aff25ff7b169"
      },
      "outputs": [
        {
          "output_type": "display_data",
          "data": {
            "text/html": [
              "<html>\n",
              "<head><meta charset=\"utf-8\" /></head>\n",
              "<body>\n",
              "    <div>            <script src=\"https://cdnjs.cloudflare.com/ajax/libs/mathjax/2.7.5/MathJax.js?config=TeX-AMS-MML_SVG\"></script><script type=\"text/javascript\">if (window.MathJax && window.MathJax.Hub && window.MathJax.Hub.Config) {window.MathJax.Hub.Config({SVG: {font: \"STIX-Web\"}});}</script>                <script type=\"text/javascript\">window.PlotlyConfig = {MathJaxConfig: 'local'};</script>\n",
              "        <script charset=\"utf-8\" src=\"https://cdn.plot.ly/plotly-2.35.2.min.js\"></script>                <div id=\"c7e87542-82b5-4444-b19b-bf8312f35e7e\" class=\"plotly-graph-div\" style=\"height:525px; width:100%;\"></div>            <script type=\"text/javascript\">                                    window.PLOTLYENV=window.PLOTLYENV || {};                                    if (document.getElementById(\"c7e87542-82b5-4444-b19b-bf8312f35e7e\")) {                    Plotly.newPlot(                        \"c7e87542-82b5-4444-b19b-bf8312f35e7e\",                        [{\"hoverinfo\":\"none\",\"line\":{\"color\":\"black\",\"width\":1},\"mode\":\"lines\",\"x\":[-0.17563383084757747,-0.2968289517451485,null,-0.17563383084757747,0.2811378336180952,null,-0.17563383084757747,-0.7745051360294132,null,-0.17563383084757747,0.5727065098461936,null,-0.2968289517451485,0.2811378336180952,null,-0.2968289517451485,-0.7745051360294132,null,-0.2968289517451485,-0.1504729675087979,null,-0.2968289517451485,0.19724997736079014,null,0.2811378336180952,0.00007593996806242046,null,0.2811378336180952,-0.1504729675087979,null,0.2811378336180952,0.19724997736079014,null,0.00007593996806242046,-0.2968289517451485,null,0.00007593996806242046,0.2811378336180952,null,0.00007593996806242046,0.00007593996806242046,null,0.00007593996806242046,-0.1504729675087979,null,0.00007593996806242046,0.19724997736079014,null,-0.7745051360294132,0.19724997736079014,null,0.2541350554476249,-0.17563383084757747,null,0.2541350554476249,-0.2968289517451485,null,0.2541350554476249,0.2541350554476249,null,0.2541350554476249,0.5727065098461936,null,-0.1504729675087979,-0.2968289517451485,null,0.19724997736079014,0.2541350554476249,null,0.09213556989017185,-0.17563383084757747,null,0.09213556989017185,-0.2968289517451485,null,0.09213556989017185,0.00007593996806242046,null,0.09213556989017185,0.19724997736079014,null,0.09213556989017185,0.5727065098461936,null,0.5727065098461936,-0.2968289517451485,null,0.5727065098461936,0.2811378336180952,null],\"y\":[-0.13060949577306571,0.12280158965340818,null,-0.13060949577306571,0.28045745850230036,null,-0.13060949577306571,-0.2778166717456164,null,-0.13060949577306571,0.016308704301580716,null,0.12280158965340818,0.28045745850230036,null,0.12280158965340818,-0.2778166717456164,null,0.12280158965340818,1.0,null,0.12280158965340818,-0.8284118533306617,null,0.28045745850230036,0.2588487021249703,null,0.28045745850230036,1.0,null,0.28045745850230036,-0.8284118533306617,null,0.2588487021249703,0.12280158965340818,null,0.2588487021249703,0.28045745850230036,null,0.2588487021249703,0.2588487021249703,null,0.2588487021249703,1.0,null,0.2588487021249703,-0.8284118533306617,null,-0.2778166717456164,-0.8284118533306617,null,-0.09946038178860957,-0.13060949577306571,null,-0.09946038178860957,0.12280158965340818,null,-0.09946038178860957,-0.09946038178860957,null,-0.09946038178860957,0.016308704301580716,null,1.0,0.12280158965340818,null,-0.8284118533306617,-0.09946038178860957,null,-0.3421180519443068,-0.13060949577306571,null,-0.3421180519443068,0.12280158965340818,null,-0.3421180519443068,0.2588487021249703,null,-0.3421180519443068,-0.8284118533306617,null,-0.3421180519443068,0.016308704301580716,null,0.016308704301580716,0.12280158965340818,null,0.016308704301580716,0.28045745850230036,null],\"type\":\"scatter\"},{\"hoverinfo\":\"none\",\"marker\":{\"angle\":-90,\"color\":\"black\",\"size\":8,\"symbol\":\"triangle-up\"},\"mode\":\"markers\",\"x\":[-0.236231391296363,0.05275200138525886,-0.4750694834384953,0.1985363394993081,-0.007845559063526658,-0.5356670438872808,-0.2236509596269732,-0.04978948719217918,0.1406068867930788,0.06533243305464864,0.23919390548944267,-0.14837650588854304,0.1406068867930788,0.00007593996806242046,-0.07519851377036774,0.09866295866442629,-0.2886275793343115,0.039250612300023704,-0.021346948148761813,0.2541350554476249,0.4134207826469093,-0.2236509596269732,0.2256925164042075,-0.04174913047870281,-0.10234669092748833,0.046105754929117136,0.144692773625481,0.3324210398681827,0.13793877905052257,0.4269221717321444],\"y\":[-0.0039039530598287686,0.07492398136461732,-0.20421308375934105,-0.0571503957357425,0.20162952407785428,-0.07750754104610412,0.5614007948267041,-0.3528051318386268,0.26965308031363533,0.6402287292511502,-0.2739771974141807,0.19082514588918925,0.26965308031363533,0.2588487021249703,0.6294243510624852,-0.28478157560284567,-0.5531142625381391,-0.11503493878083765,0.011670603932399305,-0.09946038178860957,-0.04157583874351443,0.5614007948267041,-0.46393611755963565,-0.23636377385868623,-0.1096582311454493,-0.04163467490966824,-0.5852649526374842,-0.16290467382136303,0.06955514697749444,0.14838308140194054],\"type\":\"scatter\"},{\"hoverinfo\":\"text\",\"marker\":{\"color\":[0.1,0.1,0.1,0.1,0.1,0.1,0.1,0.1,0.1,0.1],\"colorbar\":{\"thickness\":15,\"title\":{\"side\":\"right\",\"text\":\"PageRank Value\"},\"xanchor\":\"left\"},\"colorscale\":[[0.0,\"rgb(255,255,217)\"],[0.125,\"rgb(237,248,177)\"],[0.25,\"rgb(199,233,180)\"],[0.375,\"rgb(127,205,187)\"],[0.5,\"rgb(65,182,196)\"],[0.625,\"rgb(29,145,192)\"],[0.75,\"rgb(34,94,168)\"],[0.875,\"rgb(37,52,148)\"],[1.0,\"rgb(8,29,88)\"]],\"line\":{\"width\":2},\"showscale\":true,\"size\":20},\"mode\":\"markers\",\"text\":[\"Page 0 - PageRank: 0.100\",\"Page 1 - PageRank: 0.100\",\"Page 2 - PageRank: 0.100\",\"Page 3 - PageRank: 0.100\",\"Page 4 - PageRank: 0.100\",\"Page 5 - PageRank: 0.100\",\"Page 6 - PageRank: 0.100\",\"Page 7 - PageRank: 0.100\",\"Page 8 - PageRank: 0.100\",\"Page 9 - PageRank: 0.100\"],\"x\":[-0.17563383084757747,-0.2968289517451485,0.2811378336180952,0.00007593996806242046,-0.7745051360294132,0.2541350554476249,-0.1504729675087979,0.19724997736079014,0.09213556989017185,0.5727065098461936],\"y\":[-0.13060949577306571,0.12280158965340818,0.28045745850230036,0.2588487021249703,-0.2778166717456164,-0.09946038178860957,1.0,-0.8284118533306617,-0.3421180519443068,0.016308704301580716],\"type\":\"scatter\"}],                        {\"annotations\":[{\"showarrow\":false,\"text\":\"Directed graph representing webpage linkages\",\"x\":0.005,\"xref\":\"paper\",\"y\":-0.002,\"yref\":\"paper\"}],\"hovermode\":\"closest\",\"margin\":{\"b\":0,\"l\":0,\"r\":0,\"t\":40},\"showlegend\":false,\"title\":{\"font\":{\"size\":16},\"text\":\"Webpage Linkage Graph (PageRank Visualization)\"},\"xaxis\":{\"showgrid\":false,\"zeroline\":false},\"yaxis\":{\"showgrid\":false,\"zeroline\":false},\"template\":{\"data\":{\"histogram2dcontour\":[{\"type\":\"histogram2dcontour\",\"colorbar\":{\"outlinewidth\":0,\"ticks\":\"\"},\"colorscale\":[[0.0,\"#0d0887\"],[0.1111111111111111,\"#46039f\"],[0.2222222222222222,\"#7201a8\"],[0.3333333333333333,\"#9c179e\"],[0.4444444444444444,\"#bd3786\"],[0.5555555555555556,\"#d8576b\"],[0.6666666666666666,\"#ed7953\"],[0.7777777777777778,\"#fb9f3a\"],[0.8888888888888888,\"#fdca26\"],[1.0,\"#f0f921\"]]}],\"choropleth\":[{\"type\":\"choropleth\",\"colorbar\":{\"outlinewidth\":0,\"ticks\":\"\"}}],\"histogram2d\":[{\"type\":\"histogram2d\",\"colorbar\":{\"outlinewidth\":0,\"ticks\":\"\"},\"colorscale\":[[0.0,\"#0d0887\"],[0.1111111111111111,\"#46039f\"],[0.2222222222222222,\"#7201a8\"],[0.3333333333333333,\"#9c179e\"],[0.4444444444444444,\"#bd3786\"],[0.5555555555555556,\"#d8576b\"],[0.6666666666666666,\"#ed7953\"],[0.7777777777777778,\"#fb9f3a\"],[0.8888888888888888,\"#fdca26\"],[1.0,\"#f0f921\"]]}],\"heatmap\":[{\"type\":\"heatmap\",\"colorbar\":{\"outlinewidth\":0,\"ticks\":\"\"},\"colorscale\":[[0.0,\"#0d0887\"],[0.1111111111111111,\"#46039f\"],[0.2222222222222222,\"#7201a8\"],[0.3333333333333333,\"#9c179e\"],[0.4444444444444444,\"#bd3786\"],[0.5555555555555556,\"#d8576b\"],[0.6666666666666666,\"#ed7953\"],[0.7777777777777778,\"#fb9f3a\"],[0.8888888888888888,\"#fdca26\"],[1.0,\"#f0f921\"]]}],\"heatmapgl\":[{\"type\":\"heatmapgl\",\"colorbar\":{\"outlinewidth\":0,\"ticks\":\"\"},\"colorscale\":[[0.0,\"#0d0887\"],[0.1111111111111111,\"#46039f\"],[0.2222222222222222,\"#7201a8\"],[0.3333333333333333,\"#9c179e\"],[0.4444444444444444,\"#bd3786\"],[0.5555555555555556,\"#d8576b\"],[0.6666666666666666,\"#ed7953\"],[0.7777777777777778,\"#fb9f3a\"],[0.8888888888888888,\"#fdca26\"],[1.0,\"#f0f921\"]]}],\"contourcarpet\":[{\"type\":\"contourcarpet\",\"colorbar\":{\"outlinewidth\":0,\"ticks\":\"\"}}],\"contour\":[{\"type\":\"contour\",\"colorbar\":{\"outlinewidth\":0,\"ticks\":\"\"},\"colorscale\":[[0.0,\"#0d0887\"],[0.1111111111111111,\"#46039f\"],[0.2222222222222222,\"#7201a8\"],[0.3333333333333333,\"#9c179e\"],[0.4444444444444444,\"#bd3786\"],[0.5555555555555556,\"#d8576b\"],[0.6666666666666666,\"#ed7953\"],[0.7777777777777778,\"#fb9f3a\"],[0.8888888888888888,\"#fdca26\"],[1.0,\"#f0f921\"]]}],\"surface\":[{\"type\":\"surface\",\"colorbar\":{\"outlinewidth\":0,\"ticks\":\"\"},\"colorscale\":[[0.0,\"#0d0887\"],[0.1111111111111111,\"#46039f\"],[0.2222222222222222,\"#7201a8\"],[0.3333333333333333,\"#9c179e\"],[0.4444444444444444,\"#bd3786\"],[0.5555555555555556,\"#d8576b\"],[0.6666666666666666,\"#ed7953\"],[0.7777777777777778,\"#fb9f3a\"],[0.8888888888888888,\"#fdca26\"],[1.0,\"#f0f921\"]]}],\"mesh3d\":[{\"type\":\"mesh3d\",\"colorbar\":{\"outlinewidth\":0,\"ticks\":\"\"}}],\"scatter\":[{\"fillpattern\":{\"fillmode\":\"overlay\",\"size\":10,\"solidity\":0.2},\"type\":\"scatter\"}],\"parcoords\":[{\"type\":\"parcoords\",\"line\":{\"colorbar\":{\"outlinewidth\":0,\"ticks\":\"\"}}}],\"scatterpolargl\":[{\"type\":\"scatterpolargl\",\"marker\":{\"colorbar\":{\"outlinewidth\":0,\"ticks\":\"\"}}}],\"bar\":[{\"error_x\":{\"color\":\"#2a3f5f\"},\"error_y\":{\"color\":\"#2a3f5f\"},\"marker\":{\"line\":{\"color\":\"#E5ECF6\",\"width\":0.5},\"pattern\":{\"fillmode\":\"overlay\",\"size\":10,\"solidity\":0.2}},\"type\":\"bar\"}],\"scattergeo\":[{\"type\":\"scattergeo\",\"marker\":{\"colorbar\":{\"outlinewidth\":0,\"ticks\":\"\"}}}],\"scatterpolar\":[{\"type\":\"scatterpolar\",\"marker\":{\"colorbar\":{\"outlinewidth\":0,\"ticks\":\"\"}}}],\"histogram\":[{\"marker\":{\"pattern\":{\"fillmode\":\"overlay\",\"size\":10,\"solidity\":0.2}},\"type\":\"histogram\"}],\"scattergl\":[{\"type\":\"scattergl\",\"marker\":{\"colorbar\":{\"outlinewidth\":0,\"ticks\":\"\"}}}],\"scatter3d\":[{\"type\":\"scatter3d\",\"line\":{\"colorbar\":{\"outlinewidth\":0,\"ticks\":\"\"}},\"marker\":{\"colorbar\":{\"outlinewidth\":0,\"ticks\":\"\"}}}],\"scattermapbox\":[{\"type\":\"scattermapbox\",\"marker\":{\"colorbar\":{\"outlinewidth\":0,\"ticks\":\"\"}}}],\"scatterternary\":[{\"type\":\"scatterternary\",\"marker\":{\"colorbar\":{\"outlinewidth\":0,\"ticks\":\"\"}}}],\"scattercarpet\":[{\"type\":\"scattercarpet\",\"marker\":{\"colorbar\":{\"outlinewidth\":0,\"ticks\":\"\"}}}],\"carpet\":[{\"aaxis\":{\"endlinecolor\":\"#2a3f5f\",\"gridcolor\":\"white\",\"linecolor\":\"white\",\"minorgridcolor\":\"white\",\"startlinecolor\":\"#2a3f5f\"},\"baxis\":{\"endlinecolor\":\"#2a3f5f\",\"gridcolor\":\"white\",\"linecolor\":\"white\",\"minorgridcolor\":\"white\",\"startlinecolor\":\"#2a3f5f\"},\"type\":\"carpet\"}],\"table\":[{\"cells\":{\"fill\":{\"color\":\"#EBF0F8\"},\"line\":{\"color\":\"white\"}},\"header\":{\"fill\":{\"color\":\"#C8D4E3\"},\"line\":{\"color\":\"white\"}},\"type\":\"table\"}],\"barpolar\":[{\"marker\":{\"line\":{\"color\":\"#E5ECF6\",\"width\":0.5},\"pattern\":{\"fillmode\":\"overlay\",\"size\":10,\"solidity\":0.2}},\"type\":\"barpolar\"}],\"pie\":[{\"automargin\":true,\"type\":\"pie\"}]},\"layout\":{\"autotypenumbers\":\"strict\",\"colorway\":[\"#636efa\",\"#EF553B\",\"#00cc96\",\"#ab63fa\",\"#FFA15A\",\"#19d3f3\",\"#FF6692\",\"#B6E880\",\"#FF97FF\",\"#FECB52\"],\"font\":{\"color\":\"#2a3f5f\"},\"hovermode\":\"closest\",\"hoverlabel\":{\"align\":\"left\"},\"paper_bgcolor\":\"white\",\"plot_bgcolor\":\"#E5ECF6\",\"polar\":{\"bgcolor\":\"#E5ECF6\",\"angularaxis\":{\"gridcolor\":\"white\",\"linecolor\":\"white\",\"ticks\":\"\"},\"radialaxis\":{\"gridcolor\":\"white\",\"linecolor\":\"white\",\"ticks\":\"\"}},\"ternary\":{\"bgcolor\":\"#E5ECF6\",\"aaxis\":{\"gridcolor\":\"white\",\"linecolor\":\"white\",\"ticks\":\"\"},\"baxis\":{\"gridcolor\":\"white\",\"linecolor\":\"white\",\"ticks\":\"\"},\"caxis\":{\"gridcolor\":\"white\",\"linecolor\":\"white\",\"ticks\":\"\"}},\"coloraxis\":{\"colorbar\":{\"outlinewidth\":0,\"ticks\":\"\"}},\"colorscale\":{\"sequential\":[[0.0,\"#0d0887\"],[0.1111111111111111,\"#46039f\"],[0.2222222222222222,\"#7201a8\"],[0.3333333333333333,\"#9c179e\"],[0.4444444444444444,\"#bd3786\"],[0.5555555555555556,\"#d8576b\"],[0.6666666666666666,\"#ed7953\"],[0.7777777777777778,\"#fb9f3a\"],[0.8888888888888888,\"#fdca26\"],[1.0,\"#f0f921\"]],\"sequentialminus\":[[0.0,\"#0d0887\"],[0.1111111111111111,\"#46039f\"],[0.2222222222222222,\"#7201a8\"],[0.3333333333333333,\"#9c179e\"],[0.4444444444444444,\"#bd3786\"],[0.5555555555555556,\"#d8576b\"],[0.6666666666666666,\"#ed7953\"],[0.7777777777777778,\"#fb9f3a\"],[0.8888888888888888,\"#fdca26\"],[1.0,\"#f0f921\"]],\"diverging\":[[0,\"#8e0152\"],[0.1,\"#c51b7d\"],[0.2,\"#de77ae\"],[0.3,\"#f1b6da\"],[0.4,\"#fde0ef\"],[0.5,\"#f7f7f7\"],[0.6,\"#e6f5d0\"],[0.7,\"#b8e186\"],[0.8,\"#7fbc41\"],[0.9,\"#4d9221\"],[1,\"#276419\"]]},\"xaxis\":{\"gridcolor\":\"white\",\"linecolor\":\"white\",\"ticks\":\"\",\"title\":{\"standoff\":15},\"zerolinecolor\":\"white\",\"automargin\":true,\"zerolinewidth\":2},\"yaxis\":{\"gridcolor\":\"white\",\"linecolor\":\"white\",\"ticks\":\"\",\"title\":{\"standoff\":15},\"zerolinecolor\":\"white\",\"automargin\":true,\"zerolinewidth\":2},\"scene\":{\"xaxis\":{\"backgroundcolor\":\"#E5ECF6\",\"gridcolor\":\"white\",\"linecolor\":\"white\",\"showbackground\":true,\"ticks\":\"\",\"zerolinecolor\":\"white\",\"gridwidth\":2},\"yaxis\":{\"backgroundcolor\":\"#E5ECF6\",\"gridcolor\":\"white\",\"linecolor\":\"white\",\"showbackground\":true,\"ticks\":\"\",\"zerolinecolor\":\"white\",\"gridwidth\":2},\"zaxis\":{\"backgroundcolor\":\"#E5ECF6\",\"gridcolor\":\"white\",\"linecolor\":\"white\",\"showbackground\":true,\"ticks\":\"\",\"zerolinecolor\":\"white\",\"gridwidth\":2}},\"shapedefaults\":{\"line\":{\"color\":\"#2a3f5f\"}},\"annotationdefaults\":{\"arrowcolor\":\"#2a3f5f\",\"arrowhead\":0,\"arrowwidth\":1},\"geo\":{\"bgcolor\":\"white\",\"landcolor\":\"#E5ECF6\",\"subunitcolor\":\"white\",\"showland\":true,\"showlakes\":true,\"lakecolor\":\"white\"},\"title\":{\"x\":0.05},\"mapbox\":{\"style\":\"light\"}}}},                        {\"responsive\": true}                    ).then(function(){\n",
              "                            \n",
              "var gd = document.getElementById('c7e87542-82b5-4444-b19b-bf8312f35e7e');\n",
              "var x = new MutationObserver(function (mutations, observer) {{\n",
              "        var display = window.getComputedStyle(gd).display;\n",
              "        if (!display || display === 'none') {{\n",
              "            console.log([gd, 'removed!']);\n",
              "            Plotly.purge(gd);\n",
              "            observer.disconnect();\n",
              "        }}\n",
              "}});\n",
              "\n",
              "// Listen for the removal of the full notebook cells\n",
              "var notebookContainer = gd.closest('#notebook-container');\n",
              "if (notebookContainer) {{\n",
              "    x.observe(notebookContainer, {childList: true});\n",
              "}}\n",
              "\n",
              "// Listen for the clearing of the current output cell\n",
              "var outputEl = gd.closest('.output');\n",
              "if (outputEl) {{\n",
              "    x.observe(outputEl, {childList: true});\n",
              "}}\n",
              "\n",
              "                        })                };                            </script>        </div>\n",
              "</body>\n",
              "</html>"
            ]
          },
          "metadata": {}
        },
        {
          "output_type": "display_data",
          "data": {
            "text/html": [
              "<html>\n",
              "<head><meta charset=\"utf-8\" /></head>\n",
              "<body>\n",
              "    <div>            <script src=\"https://cdnjs.cloudflare.com/ajax/libs/mathjax/2.7.5/MathJax.js?config=TeX-AMS-MML_SVG\"></script><script type=\"text/javascript\">if (window.MathJax && window.MathJax.Hub && window.MathJax.Hub.Config) {window.MathJax.Hub.Config({SVG: {font: \"STIX-Web\"}});}</script>                <script type=\"text/javascript\">window.PlotlyConfig = {MathJaxConfig: 'local'};</script>\n",
              "        <script charset=\"utf-8\" src=\"https://cdn.plot.ly/plotly-2.35.2.min.js\"></script>                <div id=\"cf6a80c2-323f-416e-8912-fed69911ba3e\" class=\"plotly-graph-div\" style=\"height:525px; width:100%;\"></div>            <script type=\"text/javascript\">                                    window.PLOTLYENV=window.PLOTLYENV || {};                                    if (document.getElementById(\"cf6a80c2-323f-416e-8912-fed69911ba3e\")) {                    Plotly.newPlot(                        \"cf6a80c2-323f-416e-8912-fed69911ba3e\",                        [{\"hoverinfo\":\"none\",\"line\":{\"color\":\"black\",\"width\":1},\"mode\":\"lines\",\"x\":[-0.17563383084757747,-0.2968289517451485,null,-0.17563383084757747,0.2811378336180952,null,-0.17563383084757747,-0.7745051360294132,null,-0.17563383084757747,0.5727065098461936,null,-0.2968289517451485,0.2811378336180952,null,-0.2968289517451485,-0.7745051360294132,null,-0.2968289517451485,-0.1504729675087979,null,-0.2968289517451485,0.19724997736079014,null,0.2811378336180952,0.00007593996806242046,null,0.2811378336180952,-0.1504729675087979,null,0.2811378336180952,0.19724997736079014,null,0.00007593996806242046,-0.2968289517451485,null,0.00007593996806242046,0.2811378336180952,null,0.00007593996806242046,0.00007593996806242046,null,0.00007593996806242046,-0.1504729675087979,null,0.00007593996806242046,0.19724997736079014,null,-0.7745051360294132,0.19724997736079014,null,0.2541350554476249,-0.17563383084757747,null,0.2541350554476249,-0.2968289517451485,null,0.2541350554476249,0.2541350554476249,null,0.2541350554476249,0.5727065098461936,null,-0.1504729675087979,-0.2968289517451485,null,0.19724997736079014,0.2541350554476249,null,0.09213556989017185,-0.17563383084757747,null,0.09213556989017185,-0.2968289517451485,null,0.09213556989017185,0.00007593996806242046,null,0.09213556989017185,0.19724997736079014,null,0.09213556989017185,0.5727065098461936,null,0.5727065098461936,-0.2968289517451485,null,0.5727065098461936,0.2811378336180952,null],\"y\":[-0.13060949577306571,0.12280158965340818,null,-0.13060949577306571,0.28045745850230036,null,-0.13060949577306571,-0.2778166717456164,null,-0.13060949577306571,0.016308704301580716,null,0.12280158965340818,0.28045745850230036,null,0.12280158965340818,-0.2778166717456164,null,0.12280158965340818,1.0,null,0.12280158965340818,-0.8284118533306617,null,0.28045745850230036,0.2588487021249703,null,0.28045745850230036,1.0,null,0.28045745850230036,-0.8284118533306617,null,0.2588487021249703,0.12280158965340818,null,0.2588487021249703,0.28045745850230036,null,0.2588487021249703,0.2588487021249703,null,0.2588487021249703,1.0,null,0.2588487021249703,-0.8284118533306617,null,-0.2778166717456164,-0.8284118533306617,null,-0.09946038178860957,-0.13060949577306571,null,-0.09946038178860957,0.12280158965340818,null,-0.09946038178860957,-0.09946038178860957,null,-0.09946038178860957,0.016308704301580716,null,1.0,0.12280158965340818,null,-0.8284118533306617,-0.09946038178860957,null,-0.3421180519443068,-0.13060949577306571,null,-0.3421180519443068,0.12280158965340818,null,-0.3421180519443068,0.2588487021249703,null,-0.3421180519443068,-0.8284118533306617,null,-0.3421180519443068,0.016308704301580716,null,0.016308704301580716,0.12280158965340818,null,0.016308704301580716,0.28045745850230036,null],\"type\":\"scatter\"},{\"hoverinfo\":\"none\",\"marker\":{\"angle\":-90,\"color\":\"black\",\"size\":8,\"symbol\":\"triangle-up\"},\"mode\":\"markers\",\"x\":[-0.236231391296363,0.05275200138525886,-0.4750694834384953,0.1985363394993081,-0.007845559063526658,-0.5356670438872808,-0.2236509596269732,-0.04978948719217918,0.1406068867930788,0.06533243305464864,0.23919390548944267,-0.14837650588854304,0.1406068867930788,0.00007593996806242046,-0.07519851377036774,0.09866295866442629,-0.2886275793343115,0.039250612300023704,-0.021346948148761813,0.2541350554476249,0.4134207826469093,-0.2236509596269732,0.2256925164042075,-0.04174913047870281,-0.10234669092748833,0.046105754929117136,0.144692773625481,0.3324210398681827,0.13793877905052257,0.4269221717321444],\"y\":[-0.0039039530598287686,0.07492398136461732,-0.20421308375934105,-0.0571503957357425,0.20162952407785428,-0.07750754104610412,0.5614007948267041,-0.3528051318386268,0.26965308031363533,0.6402287292511502,-0.2739771974141807,0.19082514588918925,0.26965308031363533,0.2588487021249703,0.6294243510624852,-0.28478157560284567,-0.5531142625381391,-0.11503493878083765,0.011670603932399305,-0.09946038178860957,-0.04157583874351443,0.5614007948267041,-0.46393611755963565,-0.23636377385868623,-0.1096582311454493,-0.04163467490966824,-0.5852649526374842,-0.16290467382136303,0.06955514697749444,0.14838308140194054],\"type\":\"scatter\"},{\"hoverinfo\":\"text\",\"marker\":{\"color\":[0.05719562172254118,0.189631624248947,0.10671231470002875,0.05757214484105508,0.06745112549139684,0.18656600454006025,0.09531901822425903,0.15520227240097803,0.015000000000000003,0.06934987383073407],\"colorbar\":{\"thickness\":15,\"title\":{\"side\":\"right\",\"text\":\"PageRank Value\"},\"xanchor\":\"left\"},\"colorscale\":[[0.0,\"rgb(255,255,217)\"],[0.125,\"rgb(237,248,177)\"],[0.25,\"rgb(199,233,180)\"],[0.375,\"rgb(127,205,187)\"],[0.5,\"rgb(65,182,196)\"],[0.625,\"rgb(29,145,192)\"],[0.75,\"rgb(34,94,168)\"],[0.875,\"rgb(37,52,148)\"],[1.0,\"rgb(8,29,88)\"]],\"line\":{\"width\":2},\"showscale\":true,\"size\":20},\"mode\":\"markers\",\"text\":[\"Page 0 - PageRank: 0.057\",\"Page 1 - PageRank: 0.190\",\"Page 2 - PageRank: 0.107\",\"Page 3 - PageRank: 0.058\",\"Page 4 - PageRank: 0.067\",\"Page 5 - PageRank: 0.187\",\"Page 6 - PageRank: 0.095\",\"Page 7 - PageRank: 0.155\",\"Page 8 - PageRank: 0.015\",\"Page 9 - PageRank: 0.069\"],\"x\":[-0.17563383084757747,-0.2968289517451485,0.2811378336180952,0.00007593996806242046,-0.7745051360294132,0.2541350554476249,-0.1504729675087979,0.19724997736079014,0.09213556989017185,0.5727065098461936],\"y\":[-0.13060949577306571,0.12280158965340818,0.28045745850230036,0.2588487021249703,-0.2778166717456164,-0.09946038178860957,1.0,-0.8284118533306617,-0.3421180519443068,0.016308704301580716],\"type\":\"scatter\"}],                        {\"annotations\":[{\"showarrow\":false,\"text\":\"Directed graph representing webpage linkages\",\"x\":0.005,\"xref\":\"paper\",\"y\":-0.002,\"yref\":\"paper\"}],\"hovermode\":\"closest\",\"margin\":{\"b\":0,\"l\":0,\"r\":0,\"t\":40},\"showlegend\":false,\"title\":{\"font\":{\"size\":16},\"text\":\"Webpage Linkage Graph (PageRank Visualization)\"},\"xaxis\":{\"showgrid\":false,\"zeroline\":false},\"yaxis\":{\"showgrid\":false,\"zeroline\":false},\"template\":{\"data\":{\"histogram2dcontour\":[{\"type\":\"histogram2dcontour\",\"colorbar\":{\"outlinewidth\":0,\"ticks\":\"\"},\"colorscale\":[[0.0,\"#0d0887\"],[0.1111111111111111,\"#46039f\"],[0.2222222222222222,\"#7201a8\"],[0.3333333333333333,\"#9c179e\"],[0.4444444444444444,\"#bd3786\"],[0.5555555555555556,\"#d8576b\"],[0.6666666666666666,\"#ed7953\"],[0.7777777777777778,\"#fb9f3a\"],[0.8888888888888888,\"#fdca26\"],[1.0,\"#f0f921\"]]}],\"choropleth\":[{\"type\":\"choropleth\",\"colorbar\":{\"outlinewidth\":0,\"ticks\":\"\"}}],\"histogram2d\":[{\"type\":\"histogram2d\",\"colorbar\":{\"outlinewidth\":0,\"ticks\":\"\"},\"colorscale\":[[0.0,\"#0d0887\"],[0.1111111111111111,\"#46039f\"],[0.2222222222222222,\"#7201a8\"],[0.3333333333333333,\"#9c179e\"],[0.4444444444444444,\"#bd3786\"],[0.5555555555555556,\"#d8576b\"],[0.6666666666666666,\"#ed7953\"],[0.7777777777777778,\"#fb9f3a\"],[0.8888888888888888,\"#fdca26\"],[1.0,\"#f0f921\"]]}],\"heatmap\":[{\"type\":\"heatmap\",\"colorbar\":{\"outlinewidth\":0,\"ticks\":\"\"},\"colorscale\":[[0.0,\"#0d0887\"],[0.1111111111111111,\"#46039f\"],[0.2222222222222222,\"#7201a8\"],[0.3333333333333333,\"#9c179e\"],[0.4444444444444444,\"#bd3786\"],[0.5555555555555556,\"#d8576b\"],[0.6666666666666666,\"#ed7953\"],[0.7777777777777778,\"#fb9f3a\"],[0.8888888888888888,\"#fdca26\"],[1.0,\"#f0f921\"]]}],\"heatmapgl\":[{\"type\":\"heatmapgl\",\"colorbar\":{\"outlinewidth\":0,\"ticks\":\"\"},\"colorscale\":[[0.0,\"#0d0887\"],[0.1111111111111111,\"#46039f\"],[0.2222222222222222,\"#7201a8\"],[0.3333333333333333,\"#9c179e\"],[0.4444444444444444,\"#bd3786\"],[0.5555555555555556,\"#d8576b\"],[0.6666666666666666,\"#ed7953\"],[0.7777777777777778,\"#fb9f3a\"],[0.8888888888888888,\"#fdca26\"],[1.0,\"#f0f921\"]]}],\"contourcarpet\":[{\"type\":\"contourcarpet\",\"colorbar\":{\"outlinewidth\":0,\"ticks\":\"\"}}],\"contour\":[{\"type\":\"contour\",\"colorbar\":{\"outlinewidth\":0,\"ticks\":\"\"},\"colorscale\":[[0.0,\"#0d0887\"],[0.1111111111111111,\"#46039f\"],[0.2222222222222222,\"#7201a8\"],[0.3333333333333333,\"#9c179e\"],[0.4444444444444444,\"#bd3786\"],[0.5555555555555556,\"#d8576b\"],[0.6666666666666666,\"#ed7953\"],[0.7777777777777778,\"#fb9f3a\"],[0.8888888888888888,\"#fdca26\"],[1.0,\"#f0f921\"]]}],\"surface\":[{\"type\":\"surface\",\"colorbar\":{\"outlinewidth\":0,\"ticks\":\"\"},\"colorscale\":[[0.0,\"#0d0887\"],[0.1111111111111111,\"#46039f\"],[0.2222222222222222,\"#7201a8\"],[0.3333333333333333,\"#9c179e\"],[0.4444444444444444,\"#bd3786\"],[0.5555555555555556,\"#d8576b\"],[0.6666666666666666,\"#ed7953\"],[0.7777777777777778,\"#fb9f3a\"],[0.8888888888888888,\"#fdca26\"],[1.0,\"#f0f921\"]]}],\"mesh3d\":[{\"type\":\"mesh3d\",\"colorbar\":{\"outlinewidth\":0,\"ticks\":\"\"}}],\"scatter\":[{\"fillpattern\":{\"fillmode\":\"overlay\",\"size\":10,\"solidity\":0.2},\"type\":\"scatter\"}],\"parcoords\":[{\"type\":\"parcoords\",\"line\":{\"colorbar\":{\"outlinewidth\":0,\"ticks\":\"\"}}}],\"scatterpolargl\":[{\"type\":\"scatterpolargl\",\"marker\":{\"colorbar\":{\"outlinewidth\":0,\"ticks\":\"\"}}}],\"bar\":[{\"error_x\":{\"color\":\"#2a3f5f\"},\"error_y\":{\"color\":\"#2a3f5f\"},\"marker\":{\"line\":{\"color\":\"#E5ECF6\",\"width\":0.5},\"pattern\":{\"fillmode\":\"overlay\",\"size\":10,\"solidity\":0.2}},\"type\":\"bar\"}],\"scattergeo\":[{\"type\":\"scattergeo\",\"marker\":{\"colorbar\":{\"outlinewidth\":0,\"ticks\":\"\"}}}],\"scatterpolar\":[{\"type\":\"scatterpolar\",\"marker\":{\"colorbar\":{\"outlinewidth\":0,\"ticks\":\"\"}}}],\"histogram\":[{\"marker\":{\"pattern\":{\"fillmode\":\"overlay\",\"size\":10,\"solidity\":0.2}},\"type\":\"histogram\"}],\"scattergl\":[{\"type\":\"scattergl\",\"marker\":{\"colorbar\":{\"outlinewidth\":0,\"ticks\":\"\"}}}],\"scatter3d\":[{\"type\":\"scatter3d\",\"line\":{\"colorbar\":{\"outlinewidth\":0,\"ticks\":\"\"}},\"marker\":{\"colorbar\":{\"outlinewidth\":0,\"ticks\":\"\"}}}],\"scattermapbox\":[{\"type\":\"scattermapbox\",\"marker\":{\"colorbar\":{\"outlinewidth\":0,\"ticks\":\"\"}}}],\"scatterternary\":[{\"type\":\"scatterternary\",\"marker\":{\"colorbar\":{\"outlinewidth\":0,\"ticks\":\"\"}}}],\"scattercarpet\":[{\"type\":\"scattercarpet\",\"marker\":{\"colorbar\":{\"outlinewidth\":0,\"ticks\":\"\"}}}],\"carpet\":[{\"aaxis\":{\"endlinecolor\":\"#2a3f5f\",\"gridcolor\":\"white\",\"linecolor\":\"white\",\"minorgridcolor\":\"white\",\"startlinecolor\":\"#2a3f5f\"},\"baxis\":{\"endlinecolor\":\"#2a3f5f\",\"gridcolor\":\"white\",\"linecolor\":\"white\",\"minorgridcolor\":\"white\",\"startlinecolor\":\"#2a3f5f\"},\"type\":\"carpet\"}],\"table\":[{\"cells\":{\"fill\":{\"color\":\"#EBF0F8\"},\"line\":{\"color\":\"white\"}},\"header\":{\"fill\":{\"color\":\"#C8D4E3\"},\"line\":{\"color\":\"white\"}},\"type\":\"table\"}],\"barpolar\":[{\"marker\":{\"line\":{\"color\":\"#E5ECF6\",\"width\":0.5},\"pattern\":{\"fillmode\":\"overlay\",\"size\":10,\"solidity\":0.2}},\"type\":\"barpolar\"}],\"pie\":[{\"automargin\":true,\"type\":\"pie\"}]},\"layout\":{\"autotypenumbers\":\"strict\",\"colorway\":[\"#636efa\",\"#EF553B\",\"#00cc96\",\"#ab63fa\",\"#FFA15A\",\"#19d3f3\",\"#FF6692\",\"#B6E880\",\"#FF97FF\",\"#FECB52\"],\"font\":{\"color\":\"#2a3f5f\"},\"hovermode\":\"closest\",\"hoverlabel\":{\"align\":\"left\"},\"paper_bgcolor\":\"white\",\"plot_bgcolor\":\"#E5ECF6\",\"polar\":{\"bgcolor\":\"#E5ECF6\",\"angularaxis\":{\"gridcolor\":\"white\",\"linecolor\":\"white\",\"ticks\":\"\"},\"radialaxis\":{\"gridcolor\":\"white\",\"linecolor\":\"white\",\"ticks\":\"\"}},\"ternary\":{\"bgcolor\":\"#E5ECF6\",\"aaxis\":{\"gridcolor\":\"white\",\"linecolor\":\"white\",\"ticks\":\"\"},\"baxis\":{\"gridcolor\":\"white\",\"linecolor\":\"white\",\"ticks\":\"\"},\"caxis\":{\"gridcolor\":\"white\",\"linecolor\":\"white\",\"ticks\":\"\"}},\"coloraxis\":{\"colorbar\":{\"outlinewidth\":0,\"ticks\":\"\"}},\"colorscale\":{\"sequential\":[[0.0,\"#0d0887\"],[0.1111111111111111,\"#46039f\"],[0.2222222222222222,\"#7201a8\"],[0.3333333333333333,\"#9c179e\"],[0.4444444444444444,\"#bd3786\"],[0.5555555555555556,\"#d8576b\"],[0.6666666666666666,\"#ed7953\"],[0.7777777777777778,\"#fb9f3a\"],[0.8888888888888888,\"#fdca26\"],[1.0,\"#f0f921\"]],\"sequentialminus\":[[0.0,\"#0d0887\"],[0.1111111111111111,\"#46039f\"],[0.2222222222222222,\"#7201a8\"],[0.3333333333333333,\"#9c179e\"],[0.4444444444444444,\"#bd3786\"],[0.5555555555555556,\"#d8576b\"],[0.6666666666666666,\"#ed7953\"],[0.7777777777777778,\"#fb9f3a\"],[0.8888888888888888,\"#fdca26\"],[1.0,\"#f0f921\"]],\"diverging\":[[0,\"#8e0152\"],[0.1,\"#c51b7d\"],[0.2,\"#de77ae\"],[0.3,\"#f1b6da\"],[0.4,\"#fde0ef\"],[0.5,\"#f7f7f7\"],[0.6,\"#e6f5d0\"],[0.7,\"#b8e186\"],[0.8,\"#7fbc41\"],[0.9,\"#4d9221\"],[1,\"#276419\"]]},\"xaxis\":{\"gridcolor\":\"white\",\"linecolor\":\"white\",\"ticks\":\"\",\"title\":{\"standoff\":15},\"zerolinecolor\":\"white\",\"automargin\":true,\"zerolinewidth\":2},\"yaxis\":{\"gridcolor\":\"white\",\"linecolor\":\"white\",\"ticks\":\"\",\"title\":{\"standoff\":15},\"zerolinecolor\":\"white\",\"automargin\":true,\"zerolinewidth\":2},\"scene\":{\"xaxis\":{\"backgroundcolor\":\"#E5ECF6\",\"gridcolor\":\"white\",\"linecolor\":\"white\",\"showbackground\":true,\"ticks\":\"\",\"zerolinecolor\":\"white\",\"gridwidth\":2},\"yaxis\":{\"backgroundcolor\":\"#E5ECF6\",\"gridcolor\":\"white\",\"linecolor\":\"white\",\"showbackground\":true,\"ticks\":\"\",\"zerolinecolor\":\"white\",\"gridwidth\":2},\"zaxis\":{\"backgroundcolor\":\"#E5ECF6\",\"gridcolor\":\"white\",\"linecolor\":\"white\",\"showbackground\":true,\"ticks\":\"\",\"zerolinecolor\":\"white\",\"gridwidth\":2}},\"shapedefaults\":{\"line\":{\"color\":\"#2a3f5f\"}},\"annotationdefaults\":{\"arrowcolor\":\"#2a3f5f\",\"arrowhead\":0,\"arrowwidth\":1},\"geo\":{\"bgcolor\":\"white\",\"landcolor\":\"#E5ECF6\",\"subunitcolor\":\"white\",\"showland\":true,\"showlakes\":true,\"lakecolor\":\"white\"},\"title\":{\"x\":0.05},\"mapbox\":{\"style\":\"light\"}}}},                        {\"responsive\": true}                    ).then(function(){\n",
              "                            \n",
              "var gd = document.getElementById('cf6a80c2-323f-416e-8912-fed69911ba3e');\n",
              "var x = new MutationObserver(function (mutations, observer) {{\n",
              "        var display = window.getComputedStyle(gd).display;\n",
              "        if (!display || display === 'none') {{\n",
              "            console.log([gd, 'removed!']);\n",
              "            Plotly.purge(gd);\n",
              "            observer.disconnect();\n",
              "        }}\n",
              "}});\n",
              "\n",
              "// Listen for the removal of the full notebook cells\n",
              "var notebookContainer = gd.closest('#notebook-container');\n",
              "if (notebookContainer) {{\n",
              "    x.observe(notebookContainer, {childList: true});\n",
              "}}\n",
              "\n",
              "// Listen for the clearing of the current output cell\n",
              "var outputEl = gd.closest('.output');\n",
              "if (outputEl) {{\n",
              "    x.observe(outputEl, {childList: true});\n",
              "}}\n",
              "\n",
              "                        })                };                            </script>        </div>\n",
              "</body>\n",
              "</html>"
            ]
          },
          "metadata": {}
        }
      ],
      "source": [
        "def gram_schmidt_qr(A):\n",
        "   \"\"\"\n",
        "   Perform QR decomposition using the Gram-Schmidt process.\n",
        "   Parameters:\n",
        "   - A (numpy.ndarray): A 2D matrix (m x n) to be decomposed, where m is the number of rows\n",
        "                         and n is the number of columns. The matrix should be of full column rank.\n",
        "\n",
        "   Returns:\n",
        "   - Q (numpy.ndarray): An m x n orthogonal matrix.\n",
        "   - R (numpy.ndarray): An n x n upper triangular matrix.\n",
        "   \"\"\"\n",
        "   m, n = A.shape\n",
        "   Q = np.zeros((m, n))\n",
        "   R = np.zeros((n, n))\n",
        "\n",
        "   for j in range(n):\n",
        "       v = A[:, j].copy()\n",
        "\n",
        "       # Subtract projections of previous vectors\n",
        "       for i in range(j):\n",
        "           R[i, j] = np.dot(Q[:, i], A[:, j])\n",
        "           v -= R[i, j] * Q[:, i]\n",
        "\n",
        "       # Compute R diagonal entry\n",
        "       R[j, j] = np.linalg.norm(v)\n",
        "\n",
        "       # Handle zero vector\n",
        "       if abs(R[j, j]) > 1e-10:\n",
        "           Q[:, j] = v / R[j, j]\n",
        "       else:\n",
        "           Q[:, j] = v\n",
        "\n",
        "   return Q, R\n",
        "\n",
        "def compute_null_space_qr(A, tol=1e-15):\n",
        "   \"\"\"\n",
        "   After performing the Gram-Schmidt process,\n",
        "   sort the columns of the Q matrix based on\n",
        "   their corresponding values in the R matrix.\n",
        "   Select the columns with smaller values in R\n",
        "   (below a given threshold) as the null space vectors.\n",
        "   Then, return the largest vector from the null space,\n",
        "   normalized to form a valid probability distribution.\n",
        "   \"\"\"\n",
        "   Q, R = gram_schmidt_qr(A.T)\n",
        "\n",
        "   # Find diagonal values close to zero\n",
        "   diag_R = np.abs(np.diag(R))\n",
        "   null_space_indices = np.where(diag_R < tol)[0]\n",
        "\n",
        "   # Get null space vectors\n",
        "   null_vectors = Q[:, null_space_indices]\n",
        "\n",
        "   # Take vector with largest magnitude\n",
        "   if null_vectors.size > 0:\n",
        "       vector = null_vectors[:, 0]\n",
        "       # Make all elements positive\n",
        "       if np.min(vector) < 0:\n",
        "           vector = -vector\n",
        "       # Normalize to probability distribution\n",
        "       vector = vector / np.sum(vector)\n",
        "   else:\n",
        "       vector = np.ones(A.shape[0]) / A.shape[0]\n",
        "\n",
        "   # Convert to dictionary\n",
        "   myProbs = {i: vector[i] for i in range(len(vector))}\n",
        "\n",
        "   visualize_graph(graph, testMine=True, myProbs=myProbs)\n",
        "   visualize_graph(graph)\n",
        "\n",
        "   return myProbs\n",
        "\n",
        "null_space = compute_null_space_qr(normalizedTransitions - np.eye(adj.shape[0]))"
      ]
    }
  ],
  "metadata": {
    "kernelspec": {
      "display_name": "DL",
      "language": "python",
      "name": "python3"
    },
    "language_info": {
      "codemirror_mode": {
        "name": "ipython",
        "version": 3
      },
      "file_extension": ".py",
      "mimetype": "text/x-python",
      "name": "python",
      "nbconvert_exporter": "python",
      "pygments_lexer": "ipython3",
      "version": "3.11.0"
    },
    "colab": {
      "provenance": []
    }
  },
  "nbformat": 4,
  "nbformat_minor": 0
}