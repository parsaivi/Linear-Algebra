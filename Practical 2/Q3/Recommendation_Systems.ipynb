{
  "cells": [
    {
      "cell_type": "markdown",
      "metadata": {
        "id": "iCI2tt-7DiUO"
      },
      "source": [
        "# Recommendation Systems\n",
        "\n",
        "A recommendation system is an algorithm designed to suggest items to users. By the growth of data, it could be done based on the past favorite items, similarities to other users, or other behaviors. One application of recommendation systems is in e-commerce ,where the items here are products.\n",
        "\n",
        "In this notebook, we use this algorithm for [MovieLens](https://movielens.org) dataset. We have a list of ratings (integer from $1$ to $5$) from some users to some movies. Our goal is to recommend movies to users such that they will find them helpful."
      ]
    },
    {
      "cell_type": "code",
      "execution_count": 1,
      "metadata": {
        "id": "KsRe2T683vjX",
        "colab": {
          "base_uri": "https://localhost:8080/"
        },
        "outputId": "ad8ed4e2-0a7f-4504-b89f-cfc8a5664b1d"
      },
      "outputs": [
        {
          "output_type": "stream",
          "name": "stdout",
          "text": [
            "Parsa-Malekian 402171075\n"
          ]
        }
      ],
      "source": [
        "name =\"Parsa-Malekian\"\n",
        "student_id = 402171075\n",
        "\n",
        "print(name, student_id)"
      ]
    },
    {
      "cell_type": "markdown",
      "metadata": {
        "id": "fDJvb6WdDiUS"
      },
      "source": [
        "## Table of Contents\n",
        "\n",
        "- 1- Content Filtering and Collaborative Filtering\n",
        "- 2- SVD for Collaborative Filtering\n",
        "  - 2.1- Load data (5 p)\n",
        "  - 2.2- Preprocess data (10 p)\n",
        "  - 2.3- SVD model (50 p)\n",
        "  - 2.4- Train (25 p)\n",
        "  - 2.5- Recommend (20 p)"
      ]
    },
    {
      "cell_type": "markdown",
      "metadata": {
        "id": "UMREuiOnDiUT"
      },
      "source": [
        "## 1- Content Filtering and Collaborative Filtering\n",
        "\n",
        "There are many approaches for recommender systems.\n",
        "\n",
        "**Content Filtering** is based on the features of items and the user’s past interactions. A user who watches romantic movies may like other romantic movies.\n",
        "\n",
        "**Collaborative Filtering** is based on the behavior of other users. If two users watched many movies similarly, a movie liked by one user, probably the other user also like it.\n",
        "\n",
        "## 2- SVD for Collaborative Filtering\n",
        "\n",
        "In this notebook, we use collaborative filtering.\n",
        "\n",
        "First, let's import needed libraries.\n",
        "\n",
        "- [numpy](https://numpy.org): The fundamental package for scientific computing with Python.\n",
        "- [pandas](https://pandas.pydata.org): Easy to use data analysis and manipulation tool.\n",
        "- [matplotlib](https://matplotlib.org): For creating visualizations in Python.\n",
        "- [sklearn](https://scikit-learn.org/stable/): We just use its split method.\n",
        "- [tqdm](https://tqdm.github.io): Make loops show a smart progress meter."
      ]
    },
    {
      "cell_type": "code",
      "execution_count": 2,
      "metadata": {
        "id": "erDi6i7jsFll"
      },
      "outputs": [],
      "source": [
        "import numpy as np\n",
        "import pandas as pd\n",
        "import matplotlib.pyplot as plt\n",
        "from sklearn.model_selection import train_test_split\n",
        "from tqdm import trange"
      ]
    },
    {
      "cell_type": "markdown",
      "metadata": {
        "id": "9l9oZG8q3vjZ"
      },
      "source": [
        "### 2.1- Load data\n",
        "\n",
        "Now, we load the ratings in a pandas DataFrame. There are $3$ columns that we will deal with: `userId`, `movieId`, and `rating`. In each row, a user rates a movie. Remove `timestamp` column. Find the total number of rows available. Show the first $5$ rows."
      ]
    },
    {
      "cell_type": "code",
      "execution_count": 4,
      "metadata": {
        "colab": {
          "base_uri": "https://localhost:8080/",
          "height": 223
        },
        "id": "PSwKCCfTsFlr",
        "outputId": "6adb8e58-d9e6-4a4c-cfbb-5553728b669f"
      },
      "outputs": [
        {
          "output_type": "stream",
          "name": "stdout",
          "text": [
            "158589\n"
          ]
        },
        {
          "output_type": "execute_result",
          "data": {
            "text/plain": [
              "   userId  movieId  rating\n",
              "0     1.0        1     4.0\n",
              "1     1.0        3     4.0\n",
              "2     1.0        6     4.0\n",
              "3     1.0       47     5.0\n",
              "4     1.0       50     5.0"
            ],
            "text/html": [
              "\n",
              "  <div id=\"df-5c688f80-9787-4092-9057-ea92f129a1fd\" class=\"colab-df-container\">\n",
              "    <div>\n",
              "<style scoped>\n",
              "    .dataframe tbody tr th:only-of-type {\n",
              "        vertical-align: middle;\n",
              "    }\n",
              "\n",
              "    .dataframe tbody tr th {\n",
              "        vertical-align: top;\n",
              "    }\n",
              "\n",
              "    .dataframe thead th {\n",
              "        text-align: right;\n",
              "    }\n",
              "</style>\n",
              "<table border=\"1\" class=\"dataframe\">\n",
              "  <thead>\n",
              "    <tr style=\"text-align: right;\">\n",
              "      <th></th>\n",
              "      <th>userId</th>\n",
              "      <th>movieId</th>\n",
              "      <th>rating</th>\n",
              "    </tr>\n",
              "  </thead>\n",
              "  <tbody>\n",
              "    <tr>\n",
              "      <th>0</th>\n",
              "      <td>1.0</td>\n",
              "      <td>1</td>\n",
              "      <td>4.0</td>\n",
              "    </tr>\n",
              "    <tr>\n",
              "      <th>1</th>\n",
              "      <td>1.0</td>\n",
              "      <td>3</td>\n",
              "      <td>4.0</td>\n",
              "    </tr>\n",
              "    <tr>\n",
              "      <th>2</th>\n",
              "      <td>1.0</td>\n",
              "      <td>6</td>\n",
              "      <td>4.0</td>\n",
              "    </tr>\n",
              "    <tr>\n",
              "      <th>3</th>\n",
              "      <td>1.0</td>\n",
              "      <td>47</td>\n",
              "      <td>5.0</td>\n",
              "    </tr>\n",
              "    <tr>\n",
              "      <th>4</th>\n",
              "      <td>1.0</td>\n",
              "      <td>50</td>\n",
              "      <td>5.0</td>\n",
              "    </tr>\n",
              "  </tbody>\n",
              "</table>\n",
              "</div>\n",
              "    <div class=\"colab-df-buttons\">\n",
              "\n",
              "  <div class=\"colab-df-container\">\n",
              "    <button class=\"colab-df-convert\" onclick=\"convertToInteractive('df-5c688f80-9787-4092-9057-ea92f129a1fd')\"\n",
              "            title=\"Convert this dataframe to an interactive table.\"\n",
              "            style=\"display:none;\">\n",
              "\n",
              "  <svg xmlns=\"http://www.w3.org/2000/svg\" height=\"24px\" viewBox=\"0 -960 960 960\">\n",
              "    <path d=\"M120-120v-720h720v720H120Zm60-500h600v-160H180v160Zm220 220h160v-160H400v160Zm0 220h160v-160H400v160ZM180-400h160v-160H180v160Zm440 0h160v-160H620v160ZM180-180h160v-160H180v160Zm440 0h160v-160H620v160Z\"/>\n",
              "  </svg>\n",
              "    </button>\n",
              "\n",
              "  <style>\n",
              "    .colab-df-container {\n",
              "      display:flex;\n",
              "      gap: 12px;\n",
              "    }\n",
              "\n",
              "    .colab-df-convert {\n",
              "      background-color: #E8F0FE;\n",
              "      border: none;\n",
              "      border-radius: 50%;\n",
              "      cursor: pointer;\n",
              "      display: none;\n",
              "      fill: #1967D2;\n",
              "      height: 32px;\n",
              "      padding: 0 0 0 0;\n",
              "      width: 32px;\n",
              "    }\n",
              "\n",
              "    .colab-df-convert:hover {\n",
              "      background-color: #E2EBFA;\n",
              "      box-shadow: 0px 1px 2px rgba(60, 64, 67, 0.3), 0px 1px 3px 1px rgba(60, 64, 67, 0.15);\n",
              "      fill: #174EA6;\n",
              "    }\n",
              "\n",
              "    .colab-df-buttons div {\n",
              "      margin-bottom: 4px;\n",
              "    }\n",
              "\n",
              "    [theme=dark] .colab-df-convert {\n",
              "      background-color: #3B4455;\n",
              "      fill: #D2E3FC;\n",
              "    }\n",
              "\n",
              "    [theme=dark] .colab-df-convert:hover {\n",
              "      background-color: #434B5C;\n",
              "      box-shadow: 0px 1px 3px 1px rgba(0, 0, 0, 0.15);\n",
              "      filter: drop-shadow(0px 1px 2px rgba(0, 0, 0, 0.3));\n",
              "      fill: #FFFFFF;\n",
              "    }\n",
              "  </style>\n",
              "\n",
              "    <script>\n",
              "      const buttonEl =\n",
              "        document.querySelector('#df-5c688f80-9787-4092-9057-ea92f129a1fd button.colab-df-convert');\n",
              "      buttonEl.style.display =\n",
              "        google.colab.kernel.accessAllowed ? 'block' : 'none';\n",
              "\n",
              "      async function convertToInteractive(key) {\n",
              "        const element = document.querySelector('#df-5c688f80-9787-4092-9057-ea92f129a1fd');\n",
              "        const dataTable =\n",
              "          await google.colab.kernel.invokeFunction('convertToInteractive',\n",
              "                                                    [key], {});\n",
              "        if (!dataTable) return;\n",
              "\n",
              "        const docLinkHtml = 'Like what you see? Visit the ' +\n",
              "          '<a target=\"_blank\" href=https://colab.research.google.com/notebooks/data_table.ipynb>data table notebook</a>'\n",
              "          + ' to learn more about interactive tables.';\n",
              "        element.innerHTML = '';\n",
              "        dataTable['output_type'] = 'display_data';\n",
              "        await google.colab.output.renderOutput(dataTable, element);\n",
              "        const docLink = document.createElement('div');\n",
              "        docLink.innerHTML = docLinkHtml;\n",
              "        element.appendChild(docLink);\n",
              "      }\n",
              "    </script>\n",
              "  </div>\n",
              "\n",
              "\n",
              "<div id=\"df-9f286646-39f2-4681-9c8e-c21427649f5f\">\n",
              "  <button class=\"colab-df-quickchart\" onclick=\"quickchart('df-9f286646-39f2-4681-9c8e-c21427649f5f')\"\n",
              "            title=\"Suggest charts\"\n",
              "            style=\"display:none;\">\n",
              "\n",
              "<svg xmlns=\"http://www.w3.org/2000/svg\" height=\"24px\"viewBox=\"0 0 24 24\"\n",
              "     width=\"24px\">\n",
              "    <g>\n",
              "        <path d=\"M19 3H5c-1.1 0-2 .9-2 2v14c0 1.1.9 2 2 2h14c1.1 0 2-.9 2-2V5c0-1.1-.9-2-2-2zM9 17H7v-7h2v7zm4 0h-2V7h2v10zm4 0h-2v-4h2v4z\"/>\n",
              "    </g>\n",
              "</svg>\n",
              "  </button>\n",
              "\n",
              "<style>\n",
              "  .colab-df-quickchart {\n",
              "      --bg-color: #E8F0FE;\n",
              "      --fill-color: #1967D2;\n",
              "      --hover-bg-color: #E2EBFA;\n",
              "      --hover-fill-color: #174EA6;\n",
              "      --disabled-fill-color: #AAA;\n",
              "      --disabled-bg-color: #DDD;\n",
              "  }\n",
              "\n",
              "  [theme=dark] .colab-df-quickchart {\n",
              "      --bg-color: #3B4455;\n",
              "      --fill-color: #D2E3FC;\n",
              "      --hover-bg-color: #434B5C;\n",
              "      --hover-fill-color: #FFFFFF;\n",
              "      --disabled-bg-color: #3B4455;\n",
              "      --disabled-fill-color: #666;\n",
              "  }\n",
              "\n",
              "  .colab-df-quickchart {\n",
              "    background-color: var(--bg-color);\n",
              "    border: none;\n",
              "    border-radius: 50%;\n",
              "    cursor: pointer;\n",
              "    display: none;\n",
              "    fill: var(--fill-color);\n",
              "    height: 32px;\n",
              "    padding: 0;\n",
              "    width: 32px;\n",
              "  }\n",
              "\n",
              "  .colab-df-quickchart:hover {\n",
              "    background-color: var(--hover-bg-color);\n",
              "    box-shadow: 0 1px 2px rgba(60, 64, 67, 0.3), 0 1px 3px 1px rgba(60, 64, 67, 0.15);\n",
              "    fill: var(--button-hover-fill-color);\n",
              "  }\n",
              "\n",
              "  .colab-df-quickchart-complete:disabled,\n",
              "  .colab-df-quickchart-complete:disabled:hover {\n",
              "    background-color: var(--disabled-bg-color);\n",
              "    fill: var(--disabled-fill-color);\n",
              "    box-shadow: none;\n",
              "  }\n",
              "\n",
              "  .colab-df-spinner {\n",
              "    border: 2px solid var(--fill-color);\n",
              "    border-color: transparent;\n",
              "    border-bottom-color: var(--fill-color);\n",
              "    animation:\n",
              "      spin 1s steps(1) infinite;\n",
              "  }\n",
              "\n",
              "  @keyframes spin {\n",
              "    0% {\n",
              "      border-color: transparent;\n",
              "      border-bottom-color: var(--fill-color);\n",
              "      border-left-color: var(--fill-color);\n",
              "    }\n",
              "    20% {\n",
              "      border-color: transparent;\n",
              "      border-left-color: var(--fill-color);\n",
              "      border-top-color: var(--fill-color);\n",
              "    }\n",
              "    30% {\n",
              "      border-color: transparent;\n",
              "      border-left-color: var(--fill-color);\n",
              "      border-top-color: var(--fill-color);\n",
              "      border-right-color: var(--fill-color);\n",
              "    }\n",
              "    40% {\n",
              "      border-color: transparent;\n",
              "      border-right-color: var(--fill-color);\n",
              "      border-top-color: var(--fill-color);\n",
              "    }\n",
              "    60% {\n",
              "      border-color: transparent;\n",
              "      border-right-color: var(--fill-color);\n",
              "    }\n",
              "    80% {\n",
              "      border-color: transparent;\n",
              "      border-right-color: var(--fill-color);\n",
              "      border-bottom-color: var(--fill-color);\n",
              "    }\n",
              "    90% {\n",
              "      border-color: transparent;\n",
              "      border-bottom-color: var(--fill-color);\n",
              "    }\n",
              "  }\n",
              "</style>\n",
              "\n",
              "  <script>\n",
              "    async function quickchart(key) {\n",
              "      const quickchartButtonEl =\n",
              "        document.querySelector('#' + key + ' button');\n",
              "      quickchartButtonEl.disabled = true;  // To prevent multiple clicks.\n",
              "      quickchartButtonEl.classList.add('colab-df-spinner');\n",
              "      try {\n",
              "        const charts = await google.colab.kernel.invokeFunction(\n",
              "            'suggestCharts', [key], {});\n",
              "      } catch (error) {\n",
              "        console.error('Error during call to suggestCharts:', error);\n",
              "      }\n",
              "      quickchartButtonEl.classList.remove('colab-df-spinner');\n",
              "      quickchartButtonEl.classList.add('colab-df-quickchart-complete');\n",
              "    }\n",
              "    (() => {\n",
              "      let quickchartButtonEl =\n",
              "        document.querySelector('#df-9f286646-39f2-4681-9c8e-c21427649f5f button');\n",
              "      quickchartButtonEl.style.display =\n",
              "        google.colab.kernel.accessAllowed ? 'block' : 'none';\n",
              "    })();\n",
              "  </script>\n",
              "</div>\n",
              "    </div>\n",
              "  </div>\n"
            ],
            "application/vnd.google.colaboratory.intrinsic+json": {
              "type": "dataframe",
              "variable_name": "ratings"
            }
          },
          "metadata": {},
          "execution_count": 4
        }
      ],
      "source": [
        "import pandas as pd\n",
        "\n",
        "path = 'ml-latest-small/ratings.csv'\n",
        "# Read CSV and drop timestamp column\n",
        "ratings = pd.read_csv(path)\n",
        "ratings = ratings.drop('timestamp', axis=1)  # or ratings = ratings.drop(['timestamp'], axis=1)\n",
        "\n",
        "print(ratings.shape[0])\n",
        "\n",
        "ratings.head()"
      ]
    },
    {
      "cell_type": "markdown",
      "metadata": {
        "id": "hde4pxvN3vja"
      },
      "source": [
        "### 2.2- Preprocess data\n",
        "\n",
        "It is necessary that user ids be in $\\{0, 1, ..., N-1\\}$, and item ids in $\\{0, 1, ..., M-1\\}$, while there are $N$ unique users and $M$ unique ids. Find $N, M$ and preprocess ids. Using [unique](https://pandas.pydata.org/docs/reference/api/pandas.unique.html) and [map](https://pandas.pydata.org/docs/reference/api/pandas.DataFrame.map.html) methods might be helpful."
      ]
    },
    {
      "cell_type": "code",
      "execution_count": 5,
      "metadata": {
        "colab": {
          "base_uri": "https://localhost:8080/"
        },
        "id": "VL-2HyHLsFlr",
        "outputId": "2aa04b9b-de94-4525-b00a-ca5664d50d96"
      },
      "outputs": [
        {
          "output_type": "stream",
          "name": "stdout",
          "text": [
            "There are 611 unique users and 9725 unique items\n"
          ]
        }
      ],
      "source": [
        "# TODO: find N, M. preprocess ids. (≈8 lines)\n",
        "# Convert IDs to sequential integers\n",
        "ratings['userId'] = ratings['userId'].astype('category').cat.codes\n",
        "ratings['movieId'] = ratings['movieId'].astype('category').cat.codes\n",
        "N = ratings['userId'].astype('category').cat.codes.nunique()\n",
        "M = ratings['movieId'].astype('category').cat.codes.nunique()\n",
        "print(f\"There are {N} unique users and {M} unique items\")\n"
      ]
    },
    {
      "cell_type": "markdown",
      "metadata": {
        "id": "sMllB4Nw3vja"
      },
      "source": [
        "We keep $20\\%$ of ratings for validation to see our algorithm's performance on unseen data. Find the number of training and validation examples. It is recommended to [reset index](https://pandas.pydata.org/docs/reference/api/pandas.DataFrame.reset_index.html) after splitting."
      ]
    },
    {
      "cell_type": "code",
      "execution_count": 6,
      "metadata": {
        "colab": {
          "base_uri": "https://localhost:8080/"
        },
        "id": "ug1j30YM3vja",
        "outputId": "0a2393f2-e1d6-4c51-b6ab-5b6eec9f911e"
      },
      "outputs": [
        {
          "output_type": "stream",
          "name": "stdout",
          "text": [
            "Train size=126871, Validation size=31718\n"
          ]
        }
      ],
      "source": [
        "random_state = 42\n",
        "# TODO: split with 80/20 ratio. print train/val size. (≈4 lines)\n",
        "split_point = int(len(ratings) * 0.8)\n",
        "train_data = ratings.iloc[:split_point].reset_index(drop=True)\n",
        "validation_data = ratings.iloc[split_point:].reset_index(drop=True)\n",
        "\n",
        "print(f\"Train size={len(train_data)}, Validation size={len(validation_data)}\")\n"
      ]
    },
    {
      "cell_type": "markdown",
      "metadata": {
        "id": "3S5wcdlX3vjb"
      },
      "source": [
        "### 2.3- SVD model\n",
        "\n",
        "In terms of matrices, we have the rating matrix $R \\in \\mathbb{R}^{N\\times M}$. The $i$-th row of this matrix is the $i$-th user ratings for every movie. The challenge is that, we don't have some of the entries of $R$. We want to find some valuable features based on the available ratings to find the missing entries.\n",
        "\n",
        "Think of the SVD for $R=U\\Sigma V^T$ as user-feature matrix $U$, feature importance $\\Sigma$, and item-feature matrix $V^T$. By selecting the top $k$ features, we reduce the dimensionality and capture latent factors representing user and item features. But we will solve this problem in a different manner.\n",
        "\n",
        "We represent the predicted rating of the user $u$ to the item $i$ as $\\hat{r}_{ui}$, the dot product of $p_u, q_i \\in \\mathbb{R}^{k}$. According to the [Low-rank approximation](https://en.wikipedia.org/wiki/Low-rank_approximation), the best performance we can achieve by this setting is equal to SVD. We add user $b_u$ and item $c_i$ bias for more flexibility.\n",
        "$$\n",
        "\\hat{r}_{ui} = p_u^Tq_i + b_u + c_i\n",
        "$$\n",
        "The objective is to minimize the below loss function:\n",
        "$$\n",
        "\\mathcal{L} = \\sum_{u, i} \\big[ (r_{ui} - \\hat{r}_{ui})^2 + \\lambda (b_u^2 + c_i^2 + ||p_u||^2 + ||q_i||^2) \\big]\n",
        "$$\n",
        "where $\\lambda$ is the regularization parameter and $||.||$ is the $l$-2 norm."
      ]
    },
    {
      "cell_type": "markdown",
      "metadata": {
        "id": "HXoYul723vjb"
      },
      "source": [
        "Store the above parameters in a class and implement `forward` and `backward` methods. You should use `np.random.randn` for parameter initialization."
      ]
    },
    {
      "cell_type": "code",
      "execution_count": 7,
      "metadata": {
        "id": "ZmqeY2vF3vjb"
      },
      "outputs": [],
      "source": [
        "class CollaborativeFiltering:\n",
        "    def __init__(self, num_users, num_items, num_factors, learning_rate, reg_strength):\n",
        "        self.num_users = num_users\n",
        "        self.num_items = num_items\n",
        "        self.num_factors = num_factors\n",
        "        self.learning_rate = learning_rate\n",
        "        self.reg_strength = reg_strength\n",
        "\n",
        "        # Initialize with smaller values\n",
        "        self.user_factors = np.random.normal(0, 0.05, (num_users, num_factors))\n",
        "        self.item_factors = np.random.normal(0, 0.05, (num_items, num_factors))\n",
        "\n",
        "        # Simple bias initialization\n",
        "        self.user_bias = np.zeros(num_users)\n",
        "        self.item_bias = np.zeros(num_items)\n",
        "        self.global_bias = 3.0  # assuming ratings are 1-5 scale\n",
        "\n",
        "    def forward(self, user_id, item_id):\n",
        "        return (np.dot(self.user_factors[user_id], self.item_factors[item_id]) +\n",
        "                self.user_bias[user_id] +\n",
        "                self.item_bias[item_id] +\n",
        "                self.global_bias)\n",
        "\n",
        "    def backward(self, user_id, item_id, actual_rating):\n",
        "        prediction = self.forward(user_id, item_id)\n",
        "        error = actual_rating - prediction\n",
        "\n",
        "        # Update with smaller learning rate for biases\n",
        "        self.user_bias[user_id] += 0.1 * self.learning_rate * error\n",
        "        self.item_bias[item_id] += 0.1 * self.learning_rate * error\n",
        "\n",
        "        # Update factors\n",
        "        user_vec = self.user_factors[user_id]\n",
        "        item_vec = self.item_factors[item_id]\n",
        "\n",
        "        self.user_factors[user_id] += self.learning_rate * (error * item_vec - self.reg_strength * user_vec)\n",
        "        self.item_factors[item_id] += self.learning_rate * (error * user_vec - self.reg_strength * item_vec)\n",
        "\n",
        "# Hyperparameters\n",
        "num_factors = 50\n",
        "learning_rate = 0.005\n",
        "reg_strength = 0.02\n",
        "\n",
        "model = CollaborativeFiltering(N, M, num_factors, learning_rate, reg_strength)"
      ]
    },
    {
      "cell_type": "markdown",
      "metadata": {
        "id": "flK6ohxL3vjb"
      },
      "source": [
        "### 2.4- Train\n",
        "\n",
        "Use Stochastic Gradient Descent to update the parameters of the model.\n",
        "\n",
        "Evaluate your model with RMSE on validation set:\n",
        "$$\n",
        "\\text{RMSE} = \\sqrt{\\frac{1}{n} \\sum_{j=1}^n (r - \\hat{r})^2}\n",
        "$$\n",
        "where $n$ is the number of examples in validation set."
      ]
    },
    {
      "cell_type": "code",
      "execution_count": 8,
      "metadata": {
        "id": "ABMURiNFsFlt"
      },
      "outputs": [],
      "source": [
        "def train(model: CollaborativeFiltering, training_data: pd.DataFrame):\n",
        "    # TODO: iterate through the train set & update model parameters. (≈2 lines)\n",
        "    for index, entry in training_data.iterrows():\n",
        "        model.backward(\n",
        "            int(entry['userId']),\n",
        "            int(entry['movieId']),\n",
        "            entry['rating']\n",
        "        )\n",
        "\n",
        "def evaluate(model: CollaborativeFiltering, validation_data: pd.DataFrame):\n",
        "    # TODO: calculate RMSE for validation set. (≈10 lines)\n",
        "    total_error = []\n",
        "\n",
        "    for index, entry in validation_data.iterrows():\n",
        "        current_user = int(entry['userId'])\n",
        "        current_item = int(entry['movieId'])\n",
        "        true_value = entry['rating']\n",
        "        prediction = model.forward(current_user, current_item)\n",
        "        total_error.append((true_value - prediction)**2)\n",
        "\n",
        "    return np.sqrt(np.mean(total_error))\n",
        "\n",
        "def plot(metrics):\n",
        "    plt.plot(range(1, len(metrics)+1), metrics)\n",
        "    plt.xlabel('Epoch')\n",
        "    plt.ylabel('RMSE')\n",
        "    plt.title('Collaborative Filtering with SVD')\n",
        "    plt.show()"
      ]
    },
    {
      "cell_type": "markdown",
      "metadata": {
        "id": "E2PusVjB3vjb"
      },
      "source": [
        ":Each epoch should be done in about one second. The final RSME should be about $1.3$."
      ]
    },
    {
      "cell_type": "code",
      "execution_count": 9,
      "metadata": {
        "colab": {
          "base_uri": "https://localhost:8080/",
          "height": 507
        },
        "id": "xNGUSIzlDiUZ",
        "outputId": "7b60b602-358b-4e2e-d78f-6a9ccb19593b"
      },
      "outputs": [
        {
          "output_type": "stream",
          "name": "stderr",
          "text": [
            "Training: 100%|██████████| 30/30 [03:52<00:00,  7.74s/it]"
          ]
        },
        {
          "output_type": "stream",
          "name": "stdout",
          "text": [
            "Final RMSE: 0.6364\n"
          ]
        },
        {
          "output_type": "stream",
          "name": "stderr",
          "text": [
            "\n"
          ]
        },
        {
          "output_type": "display_data",
          "data": {
            "text/plain": [
              "<Figure size 640x480 with 1 Axes>"
            ],
            "image/png": "[encoded data removed]"
          },
          "metadata": {}
        }
      ],
      "source": [
        "RMSEs = []\n",
        "num_epochs = 30\n",
        "\n",
        "for epoch in trange(num_epochs, desc='Training'):\n",
        "    train(model, train_data)\n",
        "    rmse = evaluate(model, validation_data)\n",
        "    RMSEs.append(rmse)\n",
        "\n",
        "print(f'Final RMSE: {RMSEs[-1]:.4f}')\n",
        "plot(RMSEs)"
      ]
    },
    {
      "cell_type": "markdown",
      "metadata": {
        "id": "DRu27PhN3vjc"
      },
      "source": [
        "### 2.5- Recommend\n",
        "\n",
        "The below cell will compare the unseen ratings with the predictions."
      ]
    },
    {
      "cell_type": "code",
      "execution_count": 13,
      "metadata": {
        "colab": {
          "base_uri": "https://localhost:8080/",
          "height": 53
        },
        "id": "naFPgWohsFlu",
        "outputId": "eddce8d8-b2dc-48f1-b8bf-05a9dd23c16c"
      },
      "outputs": [
        {
          "output_type": "execute_result",
          "data": {
            "text/plain": [
              "Empty DataFrame\n",
              "Columns: [Item Id, Real Rating, Pred Rating]\n",
              "Index: []"
            ],
            "text/html": [
              "\n",
              "  <div id=\"df-a4d447c9-94a2-4825-93a0-bd8492555745\" class=\"colab-df-container\">\n",
              "    <div>\n",
              "<style scoped>\n",
              "    .dataframe tbody tr th:only-of-type {\n",
              "        vertical-align: middle;\n",
              "    }\n",
              "\n",
              "    .dataframe tbody tr th {\n",
              "        vertical-align: top;\n",
              "    }\n",
              "\n",
              "    .dataframe thead th {\n",
              "        text-align: right;\n",
              "    }\n",
              "</style>\n",
              "<table border=\"1\" class=\"dataframe\">\n",
              "  <thead>\n",
              "    <tr style=\"text-align: right;\">\n",
              "      <th></th>\n",
              "      <th>Item Id</th>\n",
              "      <th>Real Rating</th>\n",
              "      <th>Pred Rating</th>\n",
              "    </tr>\n",
              "  </thead>\n",
              "  <tbody>\n",
              "  </tbody>\n",
              "</table>\n",
              "</div>\n",
              "    <div class=\"colab-df-buttons\">\n",
              "\n",
              "  <div class=\"colab-df-container\">\n",
              "    <button class=\"colab-df-convert\" onclick=\"convertToInteractive('df-a4d447c9-94a2-4825-93a0-bd8492555745')\"\n",
              "            title=\"Convert this dataframe to an interactive table.\"\n",
              "            style=\"display:none;\">\n",
              "\n",
              "  <svg xmlns=\"http://www.w3.org/2000/svg\" height=\"24px\" viewBox=\"0 -960 960 960\">\n",
              "    <path d=\"M120-120v-720h720v720H120Zm60-500h600v-160H180v160Zm220 220h160v-160H400v160Zm0 220h160v-160H400v160ZM180-400h160v-160H180v160Zm440 0h160v-160H620v160ZM180-180h160v-160H180v160Zm440 0h160v-160H620v160Z\"/>\n",
              "  </svg>\n",
              "    </button>\n",
              "\n",
              "  <style>\n",
              "    .colab-df-container {\n",
              "      display:flex;\n",
              "      gap: 12px;\n",
              "    }\n",
              "\n",
              "    .colab-df-convert {\n",
              "      background-color: #E8F0FE;\n",
              "      border: none;\n",
              "      border-radius: 50%;\n",
              "      cursor: pointer;\n",
              "      display: none;\n",
              "      fill: #1967D2;\n",
              "      height: 32px;\n",
              "      padding: 0 0 0 0;\n",
              "      width: 32px;\n",
              "    }\n",
              "\n",
              "    .colab-df-convert:hover {\n",
              "      background-color: #E2EBFA;\n",
              "      box-shadow: 0px 1px 2px rgba(60, 64, 67, 0.3), 0px 1px 3px 1px rgba(60, 64, 67, 0.15);\n",
              "      fill: #174EA6;\n",
              "    }\n",
              "\n",
              "    .colab-df-buttons div {\n",
              "      margin-bottom: 4px;\n",
              "    }\n",
              "\n",
              "    [theme=dark] .colab-df-convert {\n",
              "      background-color: #3B4455;\n",
              "      fill: #D2E3FC;\n",
              "    }\n",
              "\n",
              "    [theme=dark] .colab-df-convert:hover {\n",
              "      background-color: #434B5C;\n",
              "      box-shadow: 0px 1px 3px 1px rgba(0, 0, 0, 0.15);\n",
              "      filter: drop-shadow(0px 1px 2px rgba(0, 0, 0, 0.3));\n",
              "      fill: #FFFFFF;\n",
              "    }\n",
              "  </style>\n",
              "\n",
              "    <script>\n",
              "      const buttonEl =\n",
              "        document.querySelector('#df-a4d447c9-94a2-4825-93a0-bd8492555745 button.colab-df-convert');\n",
              "      buttonEl.style.display =\n",
              "        google.colab.kernel.accessAllowed ? 'block' : 'none';\n",
              "\n",
              "      async function convertToInteractive(key) {\n",
              "        const element = document.querySelector('#df-a4d447c9-94a2-4825-93a0-bd8492555745');\n",
              "        const dataTable =\n",
              "          await google.colab.kernel.invokeFunction('convertToInteractive',\n",
              "                                                    [key], {});\n",
              "        if (!dataTable) return;\n",
              "\n",
              "        const docLinkHtml = 'Like what you see? Visit the ' +\n",
              "          '<a target=\"_blank\" href=https://colab.research.google.com/notebooks/data_table.ipynb>data table notebook</a>'\n",
              "          + ' to learn more about interactive tables.';\n",
              "        element.innerHTML = '';\n",
              "        dataTable['output_type'] = 'display_data';\n",
              "        await google.colab.output.renderOutput(dataTable, element);\n",
              "        const docLink = document.createElement('div');\n",
              "        docLink.innerHTML = docLinkHtml;\n",
              "        element.appendChild(docLink);\n",
              "      }\n",
              "    </script>\n",
              "  </div>\n",
              "\n",
              "    </div>\n",
              "  </div>\n"
            ],
            "application/vnd.google.colaboratory.intrinsic+json": {
              "type": "dataframe",
              "variable_name": "result",
              "summary": "{\n  \"name\": \"result\",\n  \"rows\": 0,\n  \"fields\": [\n    {\n      \"column\": \"Item Id\",\n      \"properties\": {\n        \"dtype\": \"int16\",\n        \"num_unique_values\": 0,\n        \"samples\": [],\n        \"semantic_type\": \"\",\n        \"description\": \"\"\n      }\n    },\n    {\n      \"column\": \"Real Rating\",\n      \"properties\": {\n        \"dtype\": \"number\",\n        \"std\": null,\n        \"min\": null,\n        \"max\": null,\n        \"num_unique_values\": 0,\n        \"samples\": [],\n        \"semantic_type\": \"\",\n        \"description\": \"\"\n      }\n    },\n    {\n      \"column\": \"Pred Rating\",\n      \"properties\": {\n        \"dtype\": \"number\",\n        \"std\": null,\n        \"min\": null,\n        \"max\": null,\n        \"num_unique_values\": 0,\n        \"samples\": [],\n        \"semantic_type\": \"\",\n        \"description\": \"\"\n      }\n    }\n  ]\n}"
            }
          },
          "metadata": {},
          "execution_count": 13
        }
      ],
      "source": [
        "def get_candidate_items(user_id):\n",
        "    # TODO: return movie_ids and ratings for user_id in validation set. (≈2 lines)\n",
        "    return validation_data[validation_data['userId'] == user_id]\n",
        "\n",
        "def recommend_for_user(model, user_id):\n",
        "    # TODO: return a dataframe with true and predicted ratings for user_id items in validation set. (≈10 lines)\n",
        "    candidate_items = get_candidate_items(user_id)\n",
        "    movie_ids = candidate_items['movieId'].values\n",
        "    real_ratings = candidate_items['rating'].values\n",
        "\n",
        "    predicted_ratings = []\n",
        "    for movie_id in movie_ids:\n",
        "        predicted_ratings.append(model.forward(user_id, movie_id))\n",
        "\n",
        "    result = pd.DataFrame({\n",
        "        'Item Id': movie_ids,\n",
        "        'Real Rating': real_ratings,\n",
        "        'Pred Rating': predicted_ratings\n",
        "    })\n",
        "    return result\n",
        "\n",
        "result = recommend_for_user(model, 200)\n",
        "result\n"
      ]
    },
    {
      "cell_type": "markdown",
      "metadata": {
        "id": "dndiTDuD3vjc"
      },
      "source": [
        "Good predictions! There are better techniques for collaborative filtering using neural networks. For more information see [this](https://www.nvidia.com/en-us/glossary/recommendation-system/) blog. As this blog said, recommender systems have very huge impact on the amount of sales for companies. I hope you find this notebook helpful. Thanks!"
      ]
    }
  ],
  "metadata": {
    "colab": {
      "gpuType": "V28",
      "provenance": []
    },
    "kernelspec": {
      "display_name": "Python 3",
      "name": "python3"
    },
    "language_info": {
      "codemirror_mode": {
        "name": "ipython",
        "version": 3
      },
      "file_extension": ".py",
      "mimetype": "text/x-python",
      "name": "python",
      "nbconvert_exporter": "python",
      "pygments_lexer": "ipython3",
      "version": "3.11.4"
    },
    "accelerator": "TPU"
  },
  "nbformat": 4,
  "nbformat_minor": 0
}